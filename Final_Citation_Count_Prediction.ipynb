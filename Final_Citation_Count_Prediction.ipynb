{
 "cells": [
  {
   "cell_type": "code",
   "execution_count": 1,
   "metadata": {},
   "outputs": [
    {
     "name": "stderr",
     "output_type": "stream",
     "text": [
      "[nltk_data] Downloading package stopwords to\n",
      "[nltk_data]     C:\\Users\\user\\AppData\\Roaming\\nltk_data...\n",
      "[nltk_data]   Package stopwords is already up-to-date!\n"
     ]
    }
   ],
   "source": [
    "#import the necessary packages\n",
    "import json\n",
    "import string\n",
    "import re\n",
    "import nltk\n",
    "nltk.download(\"stopwords\")\n",
    "from nltk.stem import WordNetLemmatizer\n",
    "from nltk.corpus import wordnet\n",
    "import pandas as pd\n",
    "pd.options.mode.chained_assignment = None\n",
    "import numpy as np\n",
    "import matplotlib.pyplot as plt\n",
    "import seaborn as sns\n",
    "from sklearn.model_selection import train_test_split\n",
    "from sklearn.preprocessing import StandardScaler\n",
    "from sklearn.feature_extraction.text import CountVectorizer\n",
    "from sklearn.feature_extraction.text import TfidfTransformer\n",
    "from sklearn.linear_model import LinearRegression\n",
    "from collections import Counter\n",
    "from sklearn.metrics import mean_squared_error\n",
    "from sklearn.metrics import r2_score\n",
    "\n",
    "from nltk.corpus import stopwords\n",
    "\", \".join(stopwords.words('english'))\n",
    "Stopwords = set(stopwords.words('english'))"
   ]
  },
  {
   "cell_type": "code",
   "execution_count": 2,
   "metadata": {},
   "outputs": [],
   "source": [
    "#path to data \n",
    "train_path = \"C:/Users/user/Desktop/ML_Challenge/train-1.json\"\n",
    "test_path = \"C:/Users/user/Desktop/ML_Challenge/test.json\""
   ]
  },
  {
   "cell_type": "code",
   "execution_count": 3,
   "metadata": {},
   "outputs": [],
   "source": [
    "#load the data\n",
    "train_set = open(train_path)\n",
    "test_set = open(test_path)\n",
    "train = json.load(train_set)\n",
    "test = json.load(test_set)"
   ]
  },
  {
   "cell_type": "code",
   "execution_count": 4,
   "metadata": {},
   "outputs": [],
   "source": [
    "#convert to pandas Dataframe\n",
    "df_train = pd.DataFrame(train)\n",
    "df_test = pd.DataFrame(test)"
   ]
  },
  {
   "cell_type": "code",
   "execution_count": 5,
   "metadata": {},
   "outputs": [
    {
     "name": "stdout",
     "output_type": "stream",
     "text": [
      "(9658, 11) (1000, 10)\n"
     ]
    }
   ],
   "source": [
    "#checking the dimensions of each dataset\n",
    "print(df_train.shape, df_test.shape)"
   ]
  },
  {
   "cell_type": "code",
   "execution_count": 6,
   "metadata": {},
   "outputs": [],
   "source": [
    "#changing the order of each column of test set so it can match train set order\n",
    "df_test = df_test.reindex([\"doi\", \"title\", \"abstract\", \"authors\", \"venue\", \"year\", \"references\",\n",
    "                           \"topics\", \"is_open_access\", \"fields_of_study\"], axis=1)"
   ]
  },
  {
   "cell_type": "markdown",
   "metadata": {},
   "source": [
    "### Handling Missing Values"
   ]
  },
  {
   "cell_type": "code",
   "execution_count": 7,
   "metadata": {},
   "outputs": [
    {
     "data": {
      "text/plain": [
       "doi                  0\n",
       "title                0\n",
       "abstract           159\n",
       "authors              0\n",
       "venue                0\n",
       "year                 3\n",
       "references           0\n",
       "topics               0\n",
       "is_open_access       0\n",
       "fields_of_study    136\n",
       "citations            0\n",
       "dtype: int64"
      ]
     },
     "execution_count": 7,
     "metadata": {},
     "output_type": "execute_result"
    }
   ],
   "source": [
    "#checking missing values in train data\n",
    "df_train.isnull().sum()"
   ]
  },
  {
   "cell_type": "code",
   "execution_count": 8,
   "metadata": {},
   "outputs": [],
   "source": [
    "#dropping rows with missing values\n",
    "df_train = df_train.dropna()"
   ]
  },
  {
   "cell_type": "code",
   "execution_count": 9,
   "metadata": {},
   "outputs": [
    {
     "name": "stdout",
     "output_type": "stream",
     "text": [
      "<class 'pandas.core.frame.DataFrame'>\n",
      "Int64Index: 9381 entries, 0 to 9657\n",
      "Data columns (total 11 columns):\n",
      " #   Column           Non-Null Count  Dtype  \n",
      "---  ------           --------------  -----  \n",
      " 0   doi              9381 non-null   object \n",
      " 1   title            9381 non-null   object \n",
      " 2   abstract         9381 non-null   object \n",
      " 3   authors          9381 non-null   object \n",
      " 4   venue            9381 non-null   object \n",
      " 5   year             9381 non-null   float64\n",
      " 6   references       9381 non-null   int64  \n",
      " 7   topics           9381 non-null   object \n",
      " 8   is_open_access   9381 non-null   bool   \n",
      " 9   fields_of_study  9381 non-null   object \n",
      " 10  citations        9381 non-null   int64  \n",
      "dtypes: bool(1), float64(1), int64(2), object(7)\n",
      "memory usage: 815.3+ KB\n"
     ]
    }
   ],
   "source": [
    "#checking train data information\n",
    "df_train.info()"
   ]
  },
  {
   "cell_type": "code",
   "execution_count": 10,
   "metadata": {},
   "outputs": [],
   "source": [
    "#changing year to integer since it's a float\n",
    "df_train[\"year\"] = df_train[\"year\"].astype('int64')"
   ]
  },
  {
   "cell_type": "code",
   "execution_count": 11,
   "metadata": {},
   "outputs": [],
   "source": [
    "#taking fields_of_study, authors and topics out of list\n",
    "df_train[\"fields_of_study\"] = [\",\".join(i) for i in df_train[\"fields_of_study\"]]\n",
    "df_train[\"authors\"] = [\",\".join(i) for i in df_train[\"authors\"]]\n",
    "df_train[\"topics\"] = [\",\".join(i) for i in df_train[\"topics\"]]"
   ]
  },
  {
   "cell_type": "code",
   "execution_count": 12,
   "metadata": {},
   "outputs": [
    {
     "data": {
      "text/plain": [
       "doi                 0\n",
       "title               0\n",
       "abstract           19\n",
       "authors             0\n",
       "venue               0\n",
       "year                0\n",
       "references          0\n",
       "topics              0\n",
       "is_open_access      0\n",
       "fields_of_study    13\n",
       "dtype: int64"
      ]
     },
     "execution_count": 12,
     "metadata": {},
     "output_type": "execute_result"
    }
   ],
   "source": [
    "#checking missing values for test data\n",
    "df_test.isnull().sum()"
   ]
  },
  {
   "cell_type": "code",
   "execution_count": 13,
   "metadata": {},
   "outputs": [],
   "source": [
    "#to presere each row in test data, we fill the missing values of fields of study with its mode and abstract with empty string\n",
    "mode_fos = df_test[\"fields_of_study\"].mode().values[0]\n",
    "df_test[\"fields_of_study\"] = df_test[\"fields_of_study\"].apply(lambda d: d if isinstance(d, list) else mode_fos)\n",
    "df_test[\"abstract\"] = df_test[\"abstract\"].fillna(\"\")"
   ]
  },
  {
   "cell_type": "code",
   "execution_count": 14,
   "metadata": {},
   "outputs": [],
   "source": [
    "#taking fields_of_study, authors and topics out of list for test data\n",
    "df_test[\"fields_of_study\"] = [\",\".join(i) for i in df_test[\"fields_of_study\"]]\n",
    "df_test[\"authors\"] = [\",\".join(i) for i in df_test[\"authors\"]]\n",
    "df_test[\"topics\"] = [\",\".join(i) for i in df_test[\"topics\"]]"
   ]
  },
  {
   "cell_type": "code",
   "execution_count": 15,
   "metadata": {},
   "outputs": [
    {
     "name": "stdout",
     "output_type": "stream",
     "text": [
      "<class 'pandas.core.frame.DataFrame'>\n",
      "RangeIndex: 1000 entries, 0 to 999\n",
      "Data columns (total 10 columns):\n",
      " #   Column           Non-Null Count  Dtype \n",
      "---  ------           --------------  ----- \n",
      " 0   doi              1000 non-null   object\n",
      " 1   title            1000 non-null   object\n",
      " 2   abstract         1000 non-null   object\n",
      " 3   authors          1000 non-null   object\n",
      " 4   venue            1000 non-null   object\n",
      " 5   year             1000 non-null   int64 \n",
      " 6   references       1000 non-null   int64 \n",
      " 7   topics           1000 non-null   object\n",
      " 8   is_open_access   1000 non-null   bool  \n",
      " 9   fields_of_study  1000 non-null   object\n",
      "dtypes: bool(1), int64(2), object(7)\n",
      "memory usage: 71.4+ KB\n"
     ]
    }
   ],
   "source": [
    "#checking test data information\n",
    "df_test.info()"
   ]
  },
  {
   "cell_type": "markdown",
   "metadata": {},
   "source": [
    "### Exploratory Data Analysis\n",
    "#### Here we will try find out how similar are train and test data by each column."
   ]
  },
  {
   "cell_type": "code",
   "execution_count": 16,
   "metadata": {},
   "outputs": [],
   "source": [
    "#function that takes a dataframe and a column from it and checks the duplicates\n",
    "def duplicated_data(df, column):\n",
    "    d = df.duplicated(subset=[column])\n",
    "    return d.sum()"
   ]
  },
  {
   "cell_type": "code",
   "execution_count": 17,
   "metadata": {},
   "outputs": [
    {
     "name": "stdout",
     "output_type": "stream",
     "text": [
      "1 non-unique value\n",
      "0 non-unique value\n"
     ]
    }
   ],
   "source": [
    "#using the function to check whether doi values are all unique in train and test data\n",
    "print(duplicated_data(df_train, \"doi\"), \"non-unique value\")\n",
    "print(duplicated_data(df_test, \"doi\"), \"non-unique value\")"
   ]
  },
  {
   "cell_type": "code",
   "execution_count": 18,
   "metadata": {},
   "outputs": [
    {
     "name": "stdout",
     "output_type": "stream",
     "text": [
      "2 non-unique value\n",
      "0 non-unique value\n"
     ]
    }
   ],
   "source": [
    "#using the same function to check title column for both test and train datasets\n",
    "print(duplicated_data(df_train, \"title\"), \"non-unique value\")\n",
    "print(duplicated_data(df_test, \"title\"), \"non-unique value\") "
   ]
  },
  {
   "cell_type": "code",
   "execution_count": 19,
   "metadata": {},
   "outputs": [
    {
     "name": "stdout",
     "output_type": "stream",
     "text": [
      "5 non-unique value\n",
      "18 non-unique value\n"
     ]
    }
   ],
   "source": [
    "#using the same function to check abstract column for both test and train datasets\n",
    "print(duplicated_data(df_train, \"abstract\"), \"non-unique value\")\n",
    "print(duplicated_data(df_test, \"abstract\"), \"non-unique value\") "
   ]
  },
  {
   "cell_type": "code",
   "execution_count": 20,
   "metadata": {},
   "outputs": [
    {
     "name": "stdout",
     "output_type": "stream",
     "text": [
      "450 non-unique value\n",
      "10 non-unique value\n"
     ]
    }
   ],
   "source": [
    "#using the same function to check authors column for both test and train datasets\n",
    "print(duplicated_data(df_train, \"authors\"), \"non-unique value\")\n",
    "print(duplicated_data(df_test, \"authors\"), \"non-unique value\") "
   ]
  },
  {
   "cell_type": "markdown",
   "metadata": {},
   "source": [
    "#### For categorical data, we will check how many unique categories each column has both in train and test datasets"
   ]
  },
  {
   "cell_type": "code",
   "execution_count": 21,
   "metadata": {},
   "outputs": [],
   "source": [
    "#function that takes dataframe and a column and returns the unique categories for that column\n",
    "def categorical_check(column, df):\n",
    "    return len(set(df[column]))"
   ]
  },
  {
   "cell_type": "code",
   "execution_count": 22,
   "metadata": {},
   "outputs": [
    {
     "name": "stdout",
     "output_type": "stream",
     "text": [
      "292 unique categories in venue from the training set\n",
      "159 unique categories in venue from the testing set\n"
     ]
    }
   ],
   "source": [
    "#checking the unique categories of venue for train and test datasets\n",
    "print(categorical_check(\"venue\", df_train), \"unique categories in venue from the training set\")\n",
    "print(categorical_check(\"venue\", df_test), \"unique categories in venue from the testing set\")"
   ]
  },
  {
   "cell_type": "code",
   "execution_count": 23,
   "metadata": {},
   "outputs": [
    {
     "name": "stdout",
     "output_type": "stream",
     "text": [
      "43 unique categories in year from the training set\n",
      "37 unique categories in year from the testing set\n"
     ]
    }
   ],
   "source": [
    "#checking the unique categories of year for train and test datasets\n",
    "print(categorical_check(\"year\", df_train), \"unique categories in year from the training set\")\n",
    "print(categorical_check(\"year\", df_test), \"unique categories in year from the testing set\")"
   ]
  },
  {
   "cell_type": "code",
   "execution_count": 24,
   "metadata": {},
   "outputs": [
    {
     "name": "stdout",
     "output_type": "stream",
     "text": [
      "7280 unique categories in topics from the training set\n",
      "766 unique categories in topics from the testing set\n"
     ]
    }
   ],
   "source": [
    "#checking the unique categories of topics for train and test datasets\n",
    "print(categorical_check(\"topics\", df_train), \"unique categories in topics from the training set\")\n",
    "print(categorical_check(\"topics\", df_test), \"unique categories in topics from the testing set\")"
   ]
  },
  {
   "cell_type": "code",
   "execution_count": 25,
   "metadata": {},
   "outputs": [
    {
     "name": "stdout",
     "output_type": "stream",
     "text": [
      "53 unique categories in fields_of_study from the training set\n",
      "25 unique categories in fields_of_study from the testing set\n"
     ]
    }
   ],
   "source": [
    "#checking the unique categories of fields_of_study for train and test datasets\n",
    "print(categorical_check(\"fields_of_study\", df_train), \"unique categories in fields_of_study from the training set\")\n",
    "print(categorical_check(\"fields_of_study\", df_test), \"unique categories in fields_of_study from the testing set\")"
   ]
  },
  {
   "cell_type": "markdown",
   "metadata": {},
   "source": [
    "#### For numerical columns, we will find their range and the mean for both training and testing data, after which we will plot them."
   ]
  },
  {
   "cell_type": "code",
   "execution_count": 26,
   "metadata": {},
   "outputs": [],
   "source": [
    "#a function to find the range of and mean of a numerical column\n",
    "def range_and_mean(column):\n",
    "    min_val = min(column)\n",
    "    max_val = max(column)\n",
    "    \n",
    "    m = column.mean()\n",
    "\n",
    "    return (min_val, max_val), m"
   ]
  },
  {
   "cell_type": "code",
   "execution_count": 27,
   "metadata": {},
   "outputs": [
    {
     "data": {
      "text/plain": [
       "((0, 668), 32.53640336851082)"
      ]
     },
     "execution_count": 27,
     "metadata": {},
     "output_type": "execute_result"
    }
   ],
   "source": [
    "#use the function for references column in training dataset\n",
    "range_and_mean(df_train[\"references\"])"
   ]
  },
  {
   "cell_type": "code",
   "execution_count": 28,
   "metadata": {},
   "outputs": [
    {
     "data": {
      "image/png": "[encoded data removed]",
      "text/plain": [
       "<Figure size 720x360 with 1 Axes>"
      ]
     },
     "metadata": {
      "needs_background": "light"
     },
     "output_type": "display_data"
    }
   ],
   "source": [
    "#plotting references of training data\n",
    "plt.figure(figsize=(10,5))\n",
    "plt.xlabel(\"References of Training Data\")\n",
    "plt.ylabel(\"Density\")\n",
    "df_train[\"references\"].plot()\n",
    "plt.show()"
   ]
  },
  {
   "cell_type": "code",
   "execution_count": 29,
   "metadata": {},
   "outputs": [
    {
     "data": {
      "text/plain": [
       "((0, 304), 32.429)"
      ]
     },
     "execution_count": 29,
     "metadata": {},
     "output_type": "execute_result"
    }
   ],
   "source": [
    "#use the function for references column in testing dataset\n",
    "range_and_mean(df_test[\"references\"])"
   ]
  },
  {
   "cell_type": "code",
   "execution_count": 30,
   "metadata": {},
   "outputs": [
    {
     "data": {
      "image/png": "[encoded data removed]",
      "text/plain": [
       "<Figure size 720x360 with 1 Axes>"
      ]
     },
     "metadata": {
      "needs_background": "light"
     },
     "output_type": "display_data"
    }
   ],
   "source": [
    "#plotting references for testing dataset\n",
    "plt.figure(figsize=(10,5))\n",
    "plt.xlabel(\"References of Testing Data\")\n",
    "plt.ylabel(\"Density\")\n",
    "df_test[\"references\"].plot()\n",
    "plt.show()"
   ]
  },
  {
   "cell_type": "code",
   "execution_count": 31,
   "metadata": {},
   "outputs": [
    {
     "data": {
      "text/plain": [
       "((0, 9094), 37.94201044664748)"
      ]
     },
     "execution_count": 31,
     "metadata": {},
     "output_type": "execute_result"
    }
   ],
   "source": [
    "#let's check the citation range and mean in training dataset\n",
    "range_and_mean(df_train[\"citations\"])"
   ]
  },
  {
   "cell_type": "code",
   "execution_count": 32,
   "metadata": {},
   "outputs": [
    {
     "data": {
      "image/png": "[encoded data removed]",
      "text/plain": [
       "<Figure size 720x360 with 1 Axes>"
      ]
     },
     "metadata": {
      "needs_background": "light"
     },
     "output_type": "display_data"
    }
   ],
   "source": [
    "#plot the citations\n",
    "plt.figure(figsize=(10,5))\n",
    "plt.xlabel(\"Citations\")\n",
    "plt.ylabel(\"Density\")\n",
    "df_train[\"citations\"].plot()\n",
    "plt.show()"
   ]
  },
  {
   "cell_type": "code",
   "execution_count": 33,
   "metadata": {},
   "outputs": [
    {
     "data": {
      "text/plain": [
       "((1979, 2021), 2015.333439931777)"
      ]
     },
     "execution_count": 33,
     "metadata": {},
     "output_type": "execute_result"
    }
   ],
   "source": [
    "#checking the range and mean for year column in training data\n",
    "range_and_mean(df_train[\"year\"])"
   ]
  },
  {
   "cell_type": "code",
   "execution_count": 34,
   "metadata": {},
   "outputs": [
    {
     "data": {
      "image/png": "[encoded data removed]",
      "text/plain": [
       "<Figure size 720x360 with 1 Axes>"
      ]
     },
     "metadata": {
      "needs_background": "light"
     },
     "output_type": "display_data"
    }
   ],
   "source": [
    "#plotting the year of training data\n",
    "plt.figure(figsize=(10,5))\n",
    "sns.countplot(x=\"year\", data=df_train).set_title(\"Year of Training Data\")\n",
    "plt.xticks(rotation=90)\n",
    "plt.show()"
   ]
  },
  {
   "cell_type": "code",
   "execution_count": 35,
   "metadata": {},
   "outputs": [
    {
     "data": {
      "text/plain": [
       "((1979, 2021), 2015.886)"
      ]
     },
     "execution_count": 35,
     "metadata": {},
     "output_type": "execute_result"
    }
   ],
   "source": [
    "#checking the range and mean of year in testing data\n",
    "range_and_mean(df_test[\"year\"])"
   ]
  },
  {
   "cell_type": "code",
   "execution_count": 36,
   "metadata": {},
   "outputs": [
    {
     "data": {
      "image/png": "[encoded data removed]",
      "text/plain": [
       "<Figure size 720x360 with 1 Axes>"
      ]
     },
     "metadata": {
      "needs_background": "light"
     },
     "output_type": "display_data"
    }
   ],
   "source": [
    "#plotting the year of test data\n",
    "plt.figure(figsize=(10,5))\n",
    "sns.countplot(x=\"year\", data=df_test).set_title(\"Year of Testing Data\")\n",
    "plt.xticks(rotation=90)\n",
    "plt.show()"
   ]
  },
  {
   "cell_type": "markdown",
   "metadata": {},
   "source": [
    "#### For boolean columns, we will count them and plot"
   ]
  },
  {
   "cell_type": "code",
   "execution_count": 37,
   "metadata": {},
   "outputs": [
    {
     "data": {
      "text/plain": [
       "True     7843\n",
       "False    1538\n",
       "Name: is_open_access, dtype: int64"
      ]
     },
     "execution_count": 37,
     "metadata": {},
     "output_type": "execute_result"
    }
   ],
   "source": [
    "#checking is_open_access of training data\n",
    "df_train[\"is_open_access\"].value_counts()"
   ]
  },
  {
   "cell_type": "code",
   "execution_count": 38,
   "metadata": {},
   "outputs": [
    {
     "data": {
      "image/png": "[encoded data removed]",
      "text/plain": [
       "<Figure size 432x288 with 1 Axes>"
      ]
     },
     "metadata": {
      "needs_background": "light"
     },
     "output_type": "display_data"
    }
   ],
   "source": [
    "#plotting is_open_access of training data\n",
    "sns.countplot(x=\"is_open_access\", data=df_train).set_title(\"is_open_access training data\")\n",
    "plt.show()"
   ]
  },
  {
   "cell_type": "code",
   "execution_count": 39,
   "metadata": {},
   "outputs": [
    {
     "data": {
      "text/plain": [
       "True     829\n",
       "False    171\n",
       "Name: is_open_access, dtype: int64"
      ]
     },
     "execution_count": 39,
     "metadata": {},
     "output_type": "execute_result"
    }
   ],
   "source": [
    "#checking is_open_access of testing data\n",
    "df_test[\"is_open_access\"].value_counts()"
   ]
  },
  {
   "cell_type": "code",
   "execution_count": 40,
   "metadata": {},
   "outputs": [
    {
     "data": {
      "image/png": "[encoded data removed]",
      "text/plain": [
       "<Figure size 432x288 with 1 Axes>"
      ]
     },
     "metadata": {
      "needs_background": "light"
     },
     "output_type": "display_data"
    }
   ],
   "source": [
    "#plotting is_open_access of testing data\n",
    "sns.countplot(x=\"is_open_access\", data=df_test).set_title(\"is_open_access testing data\")\n",
    "plt.show()"
   ]
  },
  {
   "cell_type": "markdown",
   "metadata": {},
   "source": [
    "### Removing Duplicates from Train Data"
   ]
  },
  {
   "cell_type": "code",
   "execution_count": 41,
   "metadata": {},
   "outputs": [],
   "source": [
    "df_train.drop_duplicates(inplace=True)"
   ]
  },
  {
   "cell_type": "code",
   "execution_count": 42,
   "metadata": {},
   "outputs": [],
   "source": [
    "df_train.drop_duplicates(subset=[\"title\"], inplace=True)"
   ]
  },
  {
   "cell_type": "code",
   "execution_count": 43,
   "metadata": {},
   "outputs": [],
   "source": [
    "df_train.drop_duplicates(subset=[\"abstract\"], inplace=True)"
   ]
  },
  {
   "cell_type": "code",
   "execution_count": 44,
   "metadata": {},
   "outputs": [
    {
     "data": {
      "text/plain": [
       "(9376, 11)"
      ]
     },
     "execution_count": 44,
     "metadata": {},
     "output_type": "execute_result"
    }
   ],
   "source": [
    "df_train.shape"
   ]
  },
  {
   "cell_type": "markdown",
   "metadata": {},
   "source": [
    "#### Removing rows with categories from train data that do not exist in test set"
   ]
  },
  {
   "cell_type": "code",
   "execution_count": 45,
   "metadata": {},
   "outputs": [],
   "source": [
    "#a function that takes same columns from train set and test and return the resique of an intersection\n",
    "def non_intersection(train_col,test_col):\n",
    "    hold = []\n",
    "    discard = []\n",
    "    for i in train_col.unique():\n",
    "        if i in test_col.unique():\n",
    "            hold.append(i)\n",
    "        else:\n",
    "            discard.append(i)\n",
    "    return discard"
   ]
  },
  {
   "cell_type": "code",
   "execution_count": 46,
   "metadata": {},
   "outputs": [],
   "source": [
    "#use the function to remove from year column those categories that do not appear in test set\n",
    "df_train = df_train[~df_train[\"year\"].isin(non_intersection(df_train[\"year\"], df_test[\"year\"]))]"
   ]
  },
  {
   "cell_type": "code",
   "execution_count": 47,
   "metadata": {},
   "outputs": [],
   "source": [
    "#use the function to remove from venue column those categories that do not appear in test set\n",
    "df_train = df_train[~df_train[\"venue\"].isin(non_intersection(df_train[\"venue\"], df_test[\"venue\"]))]"
   ]
  },
  {
   "cell_type": "code",
   "execution_count": 48,
   "metadata": {},
   "outputs": [],
   "source": [
    "#use the function to remove from fields_of_study column those categories that do not appear in test set\n",
    "df_train = df_train[~df_train[\"fields_of_study\"].isin(non_intersection(df_train[\"fields_of_study\"], \n",
    "                                                                       df_test[\"fields_of_study\"]))]"
   ]
  },
  {
   "cell_type": "code",
   "execution_count": 49,
   "metadata": {},
   "outputs": [
    {
     "data": {
      "text/plain": [
       "(8469, 11)"
      ]
     },
     "execution_count": 49,
     "metadata": {},
     "output_type": "execute_result"
    }
   ],
   "source": [
    "df_train.shape"
   ]
  },
  {
   "cell_type": "markdown",
   "metadata": {},
   "source": [
    "### Train and Test Data Transformation"
   ]
  },
  {
   "cell_type": "code",
   "execution_count": 50,
   "metadata": {},
   "outputs": [],
   "source": [
    "#combine title and abstract into one column in train data\n",
    "title_abstract = df_train[\"title\"] + \" \" + df_train[\"abstract\"]"
   ]
  },
  {
   "cell_type": "code",
   "execution_count": 51,
   "metadata": {},
   "outputs": [],
   "source": [
    "#combine title and abstract into one column in test data\n",
    "title_abs_test = df_test[\"title\"] + \" \" + df_test[\"abstract\"]"
   ]
  },
  {
   "cell_type": "code",
   "execution_count": 52,
   "metadata": {},
   "outputs": [],
   "source": [
    "#insert the new column into desired positin in train set\n",
    "df_train.insert(loc=3, column='title_abstract', value=title_abstract)"
   ]
  },
  {
   "cell_type": "code",
   "execution_count": 53,
   "metadata": {},
   "outputs": [],
   "source": [
    "#insert the new column into desired positin in test set\n",
    "df_test.insert(loc=3, column='title_abstract', value=title_abs_test)"
   ]
  },
  {
   "cell_type": "code",
   "execution_count": 54,
   "metadata": {},
   "outputs": [],
   "source": [
    "#compute the age of the article in train set\n",
    "article_age = [2021 - year for year in df_train[\"year\"]]"
   ]
  },
  {
   "cell_type": "code",
   "execution_count": 55,
   "metadata": {},
   "outputs": [],
   "source": [
    "#compute the age of the article in test set\n",
    "article_age_test = [2021 - year for year in df_test[\"year\"]]"
   ]
  },
  {
   "cell_type": "code",
   "execution_count": 56,
   "metadata": {},
   "outputs": [],
   "source": [
    "#insert the age of article into desired positin in train set\n",
    "df_train.insert(loc=7, column='age_of_article', value=article_age)"
   ]
  },
  {
   "cell_type": "code",
   "execution_count": 57,
   "metadata": {},
   "outputs": [],
   "source": [
    "#insert the age of article into desired positin in test set\n",
    "df_test.insert(loc=7, column='age_of_article', value=article_age_test)"
   ]
  },
  {
   "cell_type": "code",
   "execution_count": 58,
   "metadata": {},
   "outputs": [],
   "source": [
    "#count the number of authors each paper has in train set\n",
    "author_count = df_train['authors'].apply(lambda x: len(x.split(',')))"
   ]
  },
  {
   "cell_type": "code",
   "execution_count": 59,
   "metadata": {},
   "outputs": [],
   "source": [
    "#count the number of authors each paper has in test set\n",
    "author_count_test = df_test['authors'].apply(lambda x: len(x.split(',')))"
   ]
  },
  {
   "cell_type": "code",
   "execution_count": 60,
   "metadata": {},
   "outputs": [],
   "source": [
    "#insert the count of authors into desired positin in train set\n",
    "df_train.insert(loc=5, column='authors_count', value=author_count)"
   ]
  },
  {
   "cell_type": "code",
   "execution_count": 61,
   "metadata": {},
   "outputs": [],
   "source": [
    "#insert the count of authors into desired positin in test set\n",
    "df_test.insert(loc=5, column='authors_count', value=author_count_test)"
   ]
  },
  {
   "cell_type": "code",
   "execution_count": 62,
   "metadata": {},
   "outputs": [],
   "source": [
    "#a function to clean text data\n",
    "def pre_process_text(cols):\n",
    "    \n",
    "    #lowercase\n",
    "    cols = cols.lower()\n",
    "    \n",
    "    #remove special characters and digits\n",
    "    cols = re.sub(\"(\\\\d|\\\\W)+\",\" \", cols)\n",
    "    \n",
    "    return cols"
   ]
  },
  {
   "cell_type": "code",
   "execution_count": 63,
   "metadata": {},
   "outputs": [],
   "source": [
    "#using the function, clean venue column in train set\n",
    "df_train[\"venue\"] = df_train[\"venue\"].apply(lambda x: pre_process_text(x))"
   ]
  },
  {
   "cell_type": "code",
   "execution_count": 64,
   "metadata": {},
   "outputs": [],
   "source": [
    "#using the function, clean venue column in test set\n",
    "df_test[\"venue\"] = df_test[\"venue\"].apply(lambda x: pre_process_text(x))"
   ]
  },
  {
   "cell_type": "code",
   "execution_count": 65,
   "metadata": {},
   "outputs": [],
   "source": [
    "#using the function, clean title_abstract column in train set\n",
    "df_train[\"title_abstract\"] = df_train[\"title_abstract\"].apply(lambda x: pre_process_text(x))"
   ]
  },
  {
   "cell_type": "code",
   "execution_count": 66,
   "metadata": {},
   "outputs": [],
   "source": [
    "#using the function, clean title_abstract column in test set\n",
    "df_test[\"title_abstract\"] = df_test[\"title_abstract\"].apply(lambda x: pre_process_text(x))"
   ]
  },
  {
   "cell_type": "code",
   "execution_count": 67,
   "metadata": {},
   "outputs": [],
   "source": [
    "#function for lemmatization \n",
    "lemmatizer = WordNetLemmatizer()\n",
    "wordnet_map = {\"N\":wordnet.NOUN, \"V\":wordnet.VERB, \"J\":wordnet.ADJ, \"R\":wordnet.ADV}\n",
    "def lemmatize_words(text):\n",
    "    pos_tagged_text = nltk.pos_tag(text.split())\n",
    "    return \" \".join([lemmatizer.lemmatize(word, wordnet_map.get(pos[0], wordnet.NOUN)) for word, pos in pos_tagged_text])"
   ]
  },
  {
   "cell_type": "code",
   "execution_count": 68,
   "metadata": {},
   "outputs": [],
   "source": [
    "#using the function, lemmatize title_abstract column in train set (will take a few minutes to run)\n",
    "df_train[\"title_abstract\"] = df_train[\"title_abstract\"].apply(lambda text: lemmatize_words(text))"
   ]
  },
  {
   "cell_type": "code",
   "execution_count": 69,
   "metadata": {},
   "outputs": [],
   "source": [
    "#using the function, lemmatize title_abstract column in test set (will take a few minutes to run)\n",
    "df_test[\"title_abstract\"] = df_test[\"title_abstract\"].apply(lambda text: lemmatize_words(text))"
   ]
  },
  {
   "cell_type": "code",
   "execution_count": 70,
   "metadata": {},
   "outputs": [],
   "source": [
    "#calculate the length of each title_abstract in train set\n",
    "length = df_train[\"title_abstract\"].str.len()"
   ]
  },
  {
   "cell_type": "code",
   "execution_count": 71,
   "metadata": {},
   "outputs": [],
   "source": [
    "#calculate the length of each title_abstract in test set\n",
    "length_test = df_test[\"title_abstract\"].str.len()"
   ]
  },
  {
   "cell_type": "code",
   "execution_count": 72,
   "metadata": {},
   "outputs": [],
   "source": [
    "#insert the length of abstract and title into desired positin in train set\n",
    "df_train.insert(loc = 4, column = \"length_of_abstract_title\", value=length)"
   ]
  },
  {
   "cell_type": "code",
   "execution_count": 73,
   "metadata": {},
   "outputs": [],
   "source": [
    "#insert the length of abstract and title into desired positin in test set\n",
    "df_test.insert(loc = 4, column = \"length_of_abstract_title\", value=length_test)"
   ]
  },
  {
   "cell_type": "markdown",
   "metadata": {},
   "source": [
    "#### Separate citations into variable y and combine train and test set into one dataframe"
   ]
  },
  {
   "cell_type": "code",
   "execution_count": 74,
   "metadata": {},
   "outputs": [],
   "source": [
    "y = df_train[\"citations\"]"
   ]
  },
  {
   "cell_type": "code",
   "execution_count": 75,
   "metadata": {},
   "outputs": [
    {
     "data": {
      "text/plain": [
       "8469"
      ]
     },
     "execution_count": 75,
     "metadata": {},
     "output_type": "execute_result"
    }
   ],
   "source": [
    "len(y)"
   ]
  },
  {
   "cell_type": "code",
   "execution_count": 76,
   "metadata": {},
   "outputs": [],
   "source": [
    "df_train.drop(\"citations\", axis=1, inplace=True)"
   ]
  },
  {
   "cell_type": "code",
   "execution_count": 77,
   "metadata": {},
   "outputs": [
    {
     "data": {
      "text/plain": [
       "(9469, 14)"
      ]
     },
     "execution_count": 77,
     "metadata": {},
     "output_type": "execute_result"
    }
   ],
   "source": [
    "combine_df = df_train.append(df_test, ignore_index=True)\n",
    "combine_df.shape"
   ]
  },
  {
   "cell_type": "code",
   "execution_count": 78,
   "metadata": {},
   "outputs": [],
   "source": [
    "#rank authors based on authors-count\n",
    "authors_rank = combine_df['authors_count'].rank(pct= True, ascending = True)"
   ]
  },
  {
   "cell_type": "code",
   "execution_count": 79,
   "metadata": {},
   "outputs": [],
   "source": [
    "#insert into desired position combined dataframe\n",
    "combine_df.insert(loc=7, column='authors_rank', value=authors_rank)"
   ]
  },
  {
   "cell_type": "code",
   "execution_count": 80,
   "metadata": {},
   "outputs": [],
   "source": [
    "#rank venues\n",
    "venue_rank = combine_df['venue'].rank(pct=True, ascending = False)"
   ]
  },
  {
   "cell_type": "code",
   "execution_count": 81,
   "metadata": {},
   "outputs": [],
   "source": [
    "#insert the ranking to the combined dataframe\n",
    "combine_df.insert(loc=9, column='venue_rank', value=venue_rank)"
   ]
  },
  {
   "cell_type": "code",
   "execution_count": 82,
   "metadata": {},
   "outputs": [],
   "source": [
    "#drop the unneccessary columns\n",
    "combine_df.drop(\"title\", axis=1, inplace=True)"
   ]
  },
  {
   "cell_type": "code",
   "execution_count": 83,
   "metadata": {},
   "outputs": [],
   "source": [
    "combine_df.drop(\"abstract\", axis=1, inplace=True)"
   ]
  },
  {
   "cell_type": "code",
   "execution_count": 84,
   "metadata": {},
   "outputs": [],
   "source": [
    "combine_df.drop(\"authors\", axis=1, inplace=True)"
   ]
  },
  {
   "cell_type": "code",
   "execution_count": 85,
   "metadata": {},
   "outputs": [],
   "source": [
    "combine_df.drop(\"venue\", axis=1, inplace=True)"
   ]
  },
  {
   "cell_type": "code",
   "execution_count": 86,
   "metadata": {},
   "outputs": [],
   "source": [
    "combine_df.drop(\"year\", axis=1, inplace=True)"
   ]
  },
  {
   "cell_type": "code",
   "execution_count": 87,
   "metadata": {},
   "outputs": [],
   "source": [
    "combine_df.drop(\"topics\", axis=1, inplace=True)"
   ]
  },
  {
   "cell_type": "code",
   "execution_count": 88,
   "metadata": {},
   "outputs": [],
   "source": [
    "#get dummy codes for is_open_access and fields_of_study\n",
    "combine_df = pd.get_dummies(data = combine_df, columns=[\"is_open_access\", \"fields_of_study\"])"
   ]
  },
  {
   "cell_type": "code",
   "execution_count": 89,
   "metadata": {},
   "outputs": [],
   "source": [
    "#add new stopwords to the existing list\n",
    "newStopwords = [\"two\", \"one\", \"make\", \"however\", \"also\", \"three\", \"like\", \"non\", \"although\", \"amr\", \"et\", \"al\", \"pre\", \"conll\",\n",
    "               \"crf\", \"co\", \"back\", \"take\", \"bleu\",\"wmt\", \"nmt\", \"seq\", \"within\", \"may\", \"often\", \"know\", \"many\", \"step\", \"sub\",\n",
    "                \"mt\", \"via\", \"po\", \"ner\", \"cue\", \"able\", \"early\", \"among\", \"due\", \"either\", \"even\", \"though\", \"yet\", \"bert\", \"qa\",\n",
    "               \"start\", \"could\", \"come\", \"little\", \"look\", \"add\", \"thus\", \"basis\", \"de\", \"along\", \"http\", \"four\", \"must\", \"easy\",\n",
    "               \"inter\", \"th\", \"five\", \"smt\", \"semi\", \"get\", \"ii\", \"kg\", \"hate\", \"without\", \"zero\", \"hop\", \"would\", \"whose\", \"whether\",]\n",
    "updated_stopwords = Stopwords.union(newStopwords)"
   ]
  },
  {
   "cell_type": "code",
   "execution_count": 90,
   "metadata": {},
   "outputs": [],
   "source": [
    "#put title_abstract into a list\n",
    "into_list = combine_df[\"title_abstract\"].tolist()"
   ]
  },
  {
   "cell_type": "code",
   "execution_count": 91,
   "metadata": {},
   "outputs": [],
   "source": [
    "#apply countvectorizer and take top 500 words\n",
    "cv = CountVectorizer(max_df=0.85, stop_words = updated_stopwords, max_features = 500)\n",
    "word_counts = cv.fit_transform(into_list)"
   ]
  },
  {
   "cell_type": "code",
   "execution_count": 92,
   "metadata": {},
   "outputs": [],
   "source": [
    "#do tfidf on the 500 words\n",
    "tfidf= TfidfTransformer(smooth_idf=True, use_idf=True)\n",
    "vectorized = tfidf.fit_transform(word_counts)"
   ]
  },
  {
   "cell_type": "code",
   "execution_count": 93,
   "metadata": {},
   "outputs": [],
   "source": [
    "#convert the result to pandas dataframe\n",
    "result = pd.DataFrame(vectorized.toarray(), columns=cv.get_feature_names())"
   ]
  },
  {
   "cell_type": "code",
   "execution_count": 94,
   "metadata": {},
   "outputs": [],
   "source": [
    "#drop the old title_abstract column\n",
    "combine_df.drop(\"title_abstract\", axis=1, inplace=True)"
   ]
  },
  {
   "cell_type": "code",
   "execution_count": 95,
   "metadata": {},
   "outputs": [],
   "source": [
    "#make sure the indexes are same for two dataframes before concatinating \n",
    "combine_df.index = result.index"
   ]
  },
  {
   "cell_type": "code",
   "execution_count": 96,
   "metadata": {},
   "outputs": [],
   "source": [
    "#concat dataframes\n",
    "all_data = pd.concat([combine_df, result], axis=1)"
   ]
  },
  {
   "cell_type": "code",
   "execution_count": 97,
   "metadata": {},
   "outputs": [],
   "source": [
    "#split the combined dataset back into its original form\n",
    "train = all_data.loc[:8468,:]"
   ]
  },
  {
   "cell_type": "code",
   "execution_count": 98,
   "metadata": {},
   "outputs": [],
   "source": [
    "test = all_data.loc[8469:, :]"
   ]
  },
  {
   "cell_type": "code",
   "execution_count": 99,
   "metadata": {},
   "outputs": [
    {
     "data": {
      "text/plain": [
       "(8469,)"
      ]
     },
     "execution_count": 99,
     "metadata": {},
     "output_type": "execute_result"
    }
   ],
   "source": [
    "y.shape"
   ]
  },
  {
   "cell_type": "code",
   "execution_count": 100,
   "metadata": {},
   "outputs": [
    {
     "data": {
      "text/plain": [
       "(8469, 534)"
      ]
     },
     "execution_count": 100,
     "metadata": {},
     "output_type": "execute_result"
    }
   ],
   "source": [
    "train.shape"
   ]
  },
  {
   "cell_type": "code",
   "execution_count": 101,
   "metadata": {},
   "outputs": [
    {
     "data": {
      "text/plain": [
       "(1000, 534)"
      ]
     },
     "execution_count": 101,
     "metadata": {},
     "output_type": "execute_result"
    }
   ],
   "source": [
    "test.shape"
   ]
  },
  {
   "cell_type": "code",
   "execution_count": 102,
   "metadata": {},
   "outputs": [],
   "source": [
    "#preserve testing data doi\n",
    "doi = pd.DataFrame(test.iloc[: , 0])"
   ]
  },
  {
   "cell_type": "code",
   "execution_count": 103,
   "metadata": {},
   "outputs": [],
   "source": [
    "X = train.iloc[:, 1:]"
   ]
  },
  {
   "cell_type": "code",
   "execution_count": 104,
   "metadata": {},
   "outputs": [],
   "source": [
    "X_test = test.iloc[:, 1:]"
   ]
  },
  {
   "cell_type": "code",
   "execution_count": 105,
   "metadata": {},
   "outputs": [],
   "source": [
    "#split the train data into training and validation set\n",
    "X_train, X_val, y_train, y_val = train_test_split(X, y, test_size = 0.20, random_state = 0)"
   ]
  },
  {
   "cell_type": "code",
   "execution_count": 106,
   "metadata": {},
   "outputs": [],
   "source": [
    "#scale the datasets\n",
    "scaler = StandardScaler()\n",
    "\n",
    "X_train = scaler.fit_transform(X_train)\n",
    "X_val = scaler.transform(X_val)\n",
    "X_test = scaler.transform(X_test)"
   ]
  },
  {
   "cell_type": "code",
   "execution_count": null,
   "metadata": {},
   "outputs": [],
   "source": []
  }
 ],
 "metadata": {
  "kernelspec": {
   "display_name": "Python 3",
   "language": "python",
   "name": "python3"
  },
  "language_info": {
   "codemirror_mode": {
    "name": "ipython",
    "version": 3
   },
   "file_extension": ".py",
   "mimetype": "text/x-python",
   "name": "python",
   "nbconvert_exporter": "python",
   "pygments_lexer": "ipython3",
   "version": "3.8.5"
  }
 },
 "nbformat": 4,
 "nbformat_minor": 4
}
