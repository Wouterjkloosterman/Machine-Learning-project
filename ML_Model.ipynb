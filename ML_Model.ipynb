{
 "cells": [
  {
   "cell_type": "code",
   "execution_count": 1,
   "metadata": {},
   "outputs": [],
   "source": [
    "import json\n",
    "import string\n",
    "import re\n",
    "import nltk\n",
    "import pandas as pd\n",
    "pd.options.mode.chained_assignment = None\n",
    "import numpy as np\n",
    "import matplotlib.pyplot as plt\n",
    "import seaborn as sns"
   ]
  },
  {
   "cell_type": "code",
   "execution_count": 2,
   "metadata": {},
   "outputs": [],
   "source": [
    "train_set = open(\"C:/Users/user/Desktop/ML_Challenge/train-1.json\")\n",
    "test_set = open(\"C:/Users/user/Desktop/ML_Challenge/test.json\")\n",
    "train = json.load(train_set)\n",
    "test = json.load(test_set)"
   ]
  },
  {
   "cell_type": "code",
   "execution_count": 3,
   "metadata": {},
   "outputs": [],
   "source": [
    "df_train = pd.DataFrame(train)\n",
    "df_test = pd.DataFrame(test)"
   ]
  },
  {
   "cell_type": "code",
   "execution_count": 4,
   "metadata": {},
   "outputs": [
    {
     "data": {
      "text/html": [
       "<div>\n",
       "<style scoped>\n",
       "    .dataframe tbody tr th:only-of-type {\n",
       "        vertical-align: middle;\n",
       "    }\n",
       "\n",
       "    .dataframe tbody tr th {\n",
       "        vertical-align: top;\n",
       "    }\n",
       "\n",
       "    .dataframe thead th {\n",
       "        text-align: right;\n",
       "    }\n",
       "</style>\n",
       "<table border=\"1\" class=\"dataframe\">\n",
       "  <thead>\n",
       "    <tr style=\"text-align: right;\">\n",
       "      <th></th>\n",
       "      <th>doi</th>\n",
       "      <th>title</th>\n",
       "      <th>abstract</th>\n",
       "      <th>authors</th>\n",
       "      <th>venue</th>\n",
       "      <th>year</th>\n",
       "      <th>references</th>\n",
       "      <th>topics</th>\n",
       "      <th>is_open_access</th>\n",
       "      <th>fields_of_study</th>\n",
       "      <th>citations</th>\n",
       "    </tr>\n",
       "  </thead>\n",
       "  <tbody>\n",
       "    <tr>\n",
       "      <th>0</th>\n",
       "      <td>10.3115/v1/P15-1039</td>\n",
       "      <td>Generating High Quality Proposition Banks for ...</td>\n",
       "      <td>Semantic role labeling (SRL) is crucial to nat...</td>\n",
       "      <td>[A. Akbik, Laura Chiticariu, Marina Danilevsky...</td>\n",
       "      <td>ACL</td>\n",
       "      <td>2015.0</td>\n",
       "      <td>39</td>\n",
       "      <td>[Semantic role labeling]</td>\n",
       "      <td>True</td>\n",
       "      <td>[Computer Science]</td>\n",
       "      <td>60</td>\n",
       "    </tr>\n",
       "    <tr>\n",
       "      <th>1</th>\n",
       "      <td>10.18653/v1/2020.eval4nlp-1.12</td>\n",
       "      <td>One of these words is not like the other: a re...</td>\n",
       "      <td>Word embeddings are an active topic in the NLP...</td>\n",
       "      <td>[Jesper Brink Andersen, Mikkel Bak Bertelsen, ...</td>\n",
       "      <td>EVAL4NLP</td>\n",
       "      <td>2020.0</td>\n",
       "      <td>44</td>\n",
       "      <td>[]</td>\n",
       "      <td>True</td>\n",
       "      <td>[Computer Science]</td>\n",
       "      <td>1</td>\n",
       "    </tr>\n",
       "    <tr>\n",
       "      <th>2</th>\n",
       "      <td>10.18653/v1/W17-3516</td>\n",
       "      <td>The Code2Text Challenge: Text Generation in So...</td>\n",
       "      <td>We propose a new shared task for tactical data...</td>\n",
       "      <td>[Kyle Richardson, Sina Zarrieß, Jonas Kuhn]</td>\n",
       "      <td>INLG</td>\n",
       "      <td>2017.0</td>\n",
       "      <td>30</td>\n",
       "      <td>[Natural language generation, Library (computi...</td>\n",
       "      <td>True</td>\n",
       "      <td>[Computer Science]</td>\n",
       "      <td>5</td>\n",
       "    </tr>\n",
       "    <tr>\n",
       "      <th>3</th>\n",
       "      <td>10.18653/v1/S17-2160</td>\n",
       "      <td>The Meaning Factory at SemEval-2017 Task 9: Pr...</td>\n",
       "      <td>We evaluate a semantic parser based on a chara...</td>\n",
       "      <td>[Rik van Noord, Johan Bos]</td>\n",
       "      <td>SemEval@ACL</td>\n",
       "      <td>2017.0</td>\n",
       "      <td>11</td>\n",
       "      <td>[Parsing, Convolutional neural network, Text-b...</td>\n",
       "      <td>True</td>\n",
       "      <td>[Computer Science]</td>\n",
       "      <td>5</td>\n",
       "    </tr>\n",
       "    <tr>\n",
       "      <th>4</th>\n",
       "      <td>10.18653/v1/W15-2205</td>\n",
       "      <td>Semantic Parsing for Textual Entailment</td>\n",
       "      <td>In this paper we gauge the utility of general-...</td>\n",
       "      <td>[Elisabeth Lien, Milen Kouylekov]</td>\n",
       "      <td>IWPT</td>\n",
       "      <td>2015.0</td>\n",
       "      <td>26</td>\n",
       "      <td>[Textual entailment, Parsing, SemEval, Semanti...</td>\n",
       "      <td>True</td>\n",
       "      <td>[Computer Science]</td>\n",
       "      <td>10</td>\n",
       "    </tr>\n",
       "  </tbody>\n",
       "</table>\n",
       "</div>"
      ],
      "text/plain": [
       "                              doi  \\\n",
       "0             10.3115/v1/P15-1039   \n",
       "1  10.18653/v1/2020.eval4nlp-1.12   \n",
       "2            10.18653/v1/W17-3516   \n",
       "3            10.18653/v1/S17-2160   \n",
       "4            10.18653/v1/W15-2205   \n",
       "\n",
       "                                               title  \\\n",
       "0  Generating High Quality Proposition Banks for ...   \n",
       "1  One of these words is not like the other: a re...   \n",
       "2  The Code2Text Challenge: Text Generation in So...   \n",
       "3  The Meaning Factory at SemEval-2017 Task 9: Pr...   \n",
       "4            Semantic Parsing for Textual Entailment   \n",
       "\n",
       "                                            abstract  \\\n",
       "0  Semantic role labeling (SRL) is crucial to nat...   \n",
       "1  Word embeddings are an active topic in the NLP...   \n",
       "2  We propose a new shared task for tactical data...   \n",
       "3  We evaluate a semantic parser based on a chara...   \n",
       "4  In this paper we gauge the utility of general-...   \n",
       "\n",
       "                                             authors        venue    year  \\\n",
       "0  [A. Akbik, Laura Chiticariu, Marina Danilevsky...          ACL  2015.0   \n",
       "1  [Jesper Brink Andersen, Mikkel Bak Bertelsen, ...     EVAL4NLP  2020.0   \n",
       "2        [Kyle Richardson, Sina Zarrieß, Jonas Kuhn]         INLG  2017.0   \n",
       "3                         [Rik van Noord, Johan Bos]  SemEval@ACL  2017.0   \n",
       "4                  [Elisabeth Lien, Milen Kouylekov]         IWPT  2015.0   \n",
       "\n",
       "   references                                             topics  \\\n",
       "0          39                           [Semantic role labeling]   \n",
       "1          44                                                 []   \n",
       "2          30  [Natural language generation, Library (computi...   \n",
       "3          11  [Parsing, Convolutional neural network, Text-b...   \n",
       "4          26  [Textual entailment, Parsing, SemEval, Semanti...   \n",
       "\n",
       "   is_open_access     fields_of_study  citations  \n",
       "0            True  [Computer Science]         60  \n",
       "1            True  [Computer Science]          1  \n",
       "2            True  [Computer Science]          5  \n",
       "3            True  [Computer Science]          5  \n",
       "4            True  [Computer Science]         10  "
      ]
     },
     "execution_count": 4,
     "metadata": {},
     "output_type": "execute_result"
    }
   ],
   "source": [
    "df_train.head()"
   ]
  },
  {
   "cell_type": "code",
   "execution_count": 5,
   "metadata": {},
   "outputs": [
    {
     "data": {
      "text/html": [
       "<div>\n",
       "<style scoped>\n",
       "    .dataframe tbody tr th:only-of-type {\n",
       "        vertical-align: middle;\n",
       "    }\n",
       "\n",
       "    .dataframe tbody tr th {\n",
       "        vertical-align: top;\n",
       "    }\n",
       "\n",
       "    .dataframe thead th {\n",
       "        text-align: right;\n",
       "    }\n",
       "</style>\n",
       "<table border=\"1\" class=\"dataframe\">\n",
       "  <thead>\n",
       "    <tr style=\"text-align: right;\">\n",
       "      <th></th>\n",
       "      <th>is_open_access</th>\n",
       "      <th>doi</th>\n",
       "      <th>title</th>\n",
       "      <th>fields_of_study</th>\n",
       "      <th>abstract</th>\n",
       "      <th>year</th>\n",
       "      <th>venue</th>\n",
       "      <th>references</th>\n",
       "      <th>authors</th>\n",
       "      <th>topics</th>\n",
       "    </tr>\n",
       "  </thead>\n",
       "  <tbody>\n",
       "    <tr>\n",
       "      <th>0</th>\n",
       "      <td>False</td>\n",
       "      <td>10.18653/v1/2021.findings-acl.255</td>\n",
       "      <td>On Sparsifying Encoder Outputs in Sequence-to-...</td>\n",
       "      <td>[Computer Science]</td>\n",
       "      <td>Sequence-to-sequence models usually transfer a...</td>\n",
       "      <td>2021</td>\n",
       "      <td>FINDINGS</td>\n",
       "      <td>47</td>\n",
       "      <td>[Biao Zhang, Ivan Titov, Rico Sennrich]</td>\n",
       "      <td>[Encoder, Transformer, Automatic summarization...</td>\n",
       "    </tr>\n",
       "    <tr>\n",
       "      <th>1</th>\n",
       "      <td>True</td>\n",
       "      <td>10.18653/v1/2020.acl-main.200</td>\n",
       "      <td>To Pretrain or Not to Pretrain: Examining the ...</td>\n",
       "      <td>[Computer Science, Mathematics]</td>\n",
       "      <td>Pretraining NLP models with variants of Masked...</td>\n",
       "      <td>2020</td>\n",
       "      <td>ACL</td>\n",
       "      <td>18</td>\n",
       "      <td>[Sinong Wang, Madian Khabsa, Hao Ma]</td>\n",
       "      <td>[Supervised learning, Language model, Document...</td>\n",
       "    </tr>\n",
       "    <tr>\n",
       "      <th>2</th>\n",
       "      <td>True</td>\n",
       "      <td>10.18653/v1/W18-0211</td>\n",
       "      <td>Utilization of Nganasan digital resources: a s...</td>\n",
       "      <td>[Computer Science]</td>\n",
       "      <td>According to the wide-spread belief, although ...</td>\n",
       "      <td>2018</td>\n",
       "      <td></td>\n",
       "      <td>8</td>\n",
       "      <td>[L. Fejes]</td>\n",
       "      <td>[Rounding, Lexicon, Tracer, Body of uterus, Cl...</td>\n",
       "    </tr>\n",
       "    <tr>\n",
       "      <th>3</th>\n",
       "      <td>True</td>\n",
       "      <td>10.18653/v1/N19-1413</td>\n",
       "      <td>A large-scale study of the effects of word fre...</td>\n",
       "      <td>[Computer Science]</td>\n",
       "      <td>A number of psycholinguistic studies have fact...</td>\n",
       "      <td>2019</td>\n",
       "      <td>NAACL</td>\n",
       "      <td>52</td>\n",
       "      <td>[Cory Shain]</td>\n",
       "      <td>[Word lists by frequency, Text corpus, Sentenc...</td>\n",
       "    </tr>\n",
       "    <tr>\n",
       "      <th>4</th>\n",
       "      <td>False</td>\n",
       "      <td>10.18653/v1/2021.semeval-1.168</td>\n",
       "      <td>Amherst685 at SemEval-2021 Task 7: Joint Model...</td>\n",
       "      <td>[Computer Science]</td>\n",
       "      <td>This paper describes our submission to theSemE...</td>\n",
       "      <td>2021</td>\n",
       "      <td>SEMEVAL</td>\n",
       "      <td>17</td>\n",
       "      <td>[Brian Zylich, Akshay Gugnani, Gabriel Brookma...</td>\n",
       "      <td>[]</td>\n",
       "    </tr>\n",
       "  </tbody>\n",
       "</table>\n",
       "</div>"
      ],
      "text/plain": [
       "   is_open_access                                doi  \\\n",
       "0           False  10.18653/v1/2021.findings-acl.255   \n",
       "1            True      10.18653/v1/2020.acl-main.200   \n",
       "2            True               10.18653/v1/W18-0211   \n",
       "3            True               10.18653/v1/N19-1413   \n",
       "4           False     10.18653/v1/2021.semeval-1.168   \n",
       "\n",
       "                                               title  \\\n",
       "0  On Sparsifying Encoder Outputs in Sequence-to-...   \n",
       "1  To Pretrain or Not to Pretrain: Examining the ...   \n",
       "2  Utilization of Nganasan digital resources: a s...   \n",
       "3  A large-scale study of the effects of word fre...   \n",
       "4  Amherst685 at SemEval-2021 Task 7: Joint Model...   \n",
       "\n",
       "                   fields_of_study  \\\n",
       "0               [Computer Science]   \n",
       "1  [Computer Science, Mathematics]   \n",
       "2               [Computer Science]   \n",
       "3               [Computer Science]   \n",
       "4               [Computer Science]   \n",
       "\n",
       "                                            abstract  year     venue  \\\n",
       "0  Sequence-to-sequence models usually transfer a...  2021  FINDINGS   \n",
       "1  Pretraining NLP models with variants of Masked...  2020       ACL   \n",
       "2  According to the wide-spread belief, although ...  2018             \n",
       "3  A number of psycholinguistic studies have fact...  2019     NAACL   \n",
       "4  This paper describes our submission to theSemE...  2021   SEMEVAL   \n",
       "\n",
       "   references                                            authors  \\\n",
       "0          47            [Biao Zhang, Ivan Titov, Rico Sennrich]   \n",
       "1          18               [Sinong Wang, Madian Khabsa, Hao Ma]   \n",
       "2           8                                         [L. Fejes]   \n",
       "3          52                                       [Cory Shain]   \n",
       "4          17  [Brian Zylich, Akshay Gugnani, Gabriel Brookma...   \n",
       "\n",
       "                                              topics  \n",
       "0  [Encoder, Transformer, Automatic summarization...  \n",
       "1  [Supervised learning, Language model, Document...  \n",
       "2  [Rounding, Lexicon, Tracer, Body of uterus, Cl...  \n",
       "3  [Word lists by frequency, Text corpus, Sentenc...  \n",
       "4                                                 []  "
      ]
     },
     "execution_count": 5,
     "metadata": {},
     "output_type": "execute_result"
    }
   ],
   "source": [
    "df_test.head()"
   ]
  },
  {
   "cell_type": "code",
   "execution_count": 6,
   "metadata": {},
   "outputs": [],
   "source": [
    "df_test = df_test.reindex([\"doi\", \"title\", \"abstract\", \"authors\", \"venue\", \"year\", \"references\",\n",
    "                           \"topics\", \"is_open_access\", \"fields_of_study\"], axis=1)"
   ]
  },
  {
   "cell_type": "code",
   "execution_count": 7,
   "metadata": {},
   "outputs": [
    {
     "data": {
      "text/html": [
       "<div>\n",
       "<style scoped>\n",
       "    .dataframe tbody tr th:only-of-type {\n",
       "        vertical-align: middle;\n",
       "    }\n",
       "\n",
       "    .dataframe tbody tr th {\n",
       "        vertical-align: top;\n",
       "    }\n",
       "\n",
       "    .dataframe thead th {\n",
       "        text-align: right;\n",
       "    }\n",
       "</style>\n",
       "<table border=\"1\" class=\"dataframe\">\n",
       "  <thead>\n",
       "    <tr style=\"text-align: right;\">\n",
       "      <th></th>\n",
       "      <th>doi</th>\n",
       "      <th>title</th>\n",
       "      <th>abstract</th>\n",
       "      <th>authors</th>\n",
       "      <th>venue</th>\n",
       "      <th>year</th>\n",
       "      <th>references</th>\n",
       "      <th>topics</th>\n",
       "      <th>is_open_access</th>\n",
       "      <th>fields_of_study</th>\n",
       "    </tr>\n",
       "  </thead>\n",
       "  <tbody>\n",
       "    <tr>\n",
       "      <th>0</th>\n",
       "      <td>10.18653/v1/2021.findings-acl.255</td>\n",
       "      <td>On Sparsifying Encoder Outputs in Sequence-to-...</td>\n",
       "      <td>Sequence-to-sequence models usually transfer a...</td>\n",
       "      <td>[Biao Zhang, Ivan Titov, Rico Sennrich]</td>\n",
       "      <td>FINDINGS</td>\n",
       "      <td>2021</td>\n",
       "      <td>47</td>\n",
       "      <td>[Encoder, Transformer, Automatic summarization...</td>\n",
       "      <td>False</td>\n",
       "      <td>[Computer Science]</td>\n",
       "    </tr>\n",
       "    <tr>\n",
       "      <th>1</th>\n",
       "      <td>10.18653/v1/2020.acl-main.200</td>\n",
       "      <td>To Pretrain or Not to Pretrain: Examining the ...</td>\n",
       "      <td>Pretraining NLP models with variants of Masked...</td>\n",
       "      <td>[Sinong Wang, Madian Khabsa, Hao Ma]</td>\n",
       "      <td>ACL</td>\n",
       "      <td>2020</td>\n",
       "      <td>18</td>\n",
       "      <td>[Supervised learning, Language model, Document...</td>\n",
       "      <td>True</td>\n",
       "      <td>[Computer Science, Mathematics]</td>\n",
       "    </tr>\n",
       "    <tr>\n",
       "      <th>2</th>\n",
       "      <td>10.18653/v1/W18-0211</td>\n",
       "      <td>Utilization of Nganasan digital resources: a s...</td>\n",
       "      <td>According to the wide-spread belief, although ...</td>\n",
       "      <td>[L. Fejes]</td>\n",
       "      <td></td>\n",
       "      <td>2018</td>\n",
       "      <td>8</td>\n",
       "      <td>[Rounding, Lexicon, Tracer, Body of uterus, Cl...</td>\n",
       "      <td>True</td>\n",
       "      <td>[Computer Science]</td>\n",
       "    </tr>\n",
       "    <tr>\n",
       "      <th>3</th>\n",
       "      <td>10.18653/v1/N19-1413</td>\n",
       "      <td>A large-scale study of the effects of word fre...</td>\n",
       "      <td>A number of psycholinguistic studies have fact...</td>\n",
       "      <td>[Cory Shain]</td>\n",
       "      <td>NAACL</td>\n",
       "      <td>2019</td>\n",
       "      <td>52</td>\n",
       "      <td>[Word lists by frequency, Text corpus, Sentenc...</td>\n",
       "      <td>True</td>\n",
       "      <td>[Computer Science]</td>\n",
       "    </tr>\n",
       "    <tr>\n",
       "      <th>4</th>\n",
       "      <td>10.18653/v1/2021.semeval-1.168</td>\n",
       "      <td>Amherst685 at SemEval-2021 Task 7: Joint Model...</td>\n",
       "      <td>This paper describes our submission to theSemE...</td>\n",
       "      <td>[Brian Zylich, Akshay Gugnani, Gabriel Brookma...</td>\n",
       "      <td>SEMEVAL</td>\n",
       "      <td>2021</td>\n",
       "      <td>17</td>\n",
       "      <td>[]</td>\n",
       "      <td>False</td>\n",
       "      <td>[Computer Science]</td>\n",
       "    </tr>\n",
       "  </tbody>\n",
       "</table>\n",
       "</div>"
      ],
      "text/plain": [
       "                                 doi  \\\n",
       "0  10.18653/v1/2021.findings-acl.255   \n",
       "1      10.18653/v1/2020.acl-main.200   \n",
       "2               10.18653/v1/W18-0211   \n",
       "3               10.18653/v1/N19-1413   \n",
       "4     10.18653/v1/2021.semeval-1.168   \n",
       "\n",
       "                                               title  \\\n",
       "0  On Sparsifying Encoder Outputs in Sequence-to-...   \n",
       "1  To Pretrain or Not to Pretrain: Examining the ...   \n",
       "2  Utilization of Nganasan digital resources: a s...   \n",
       "3  A large-scale study of the effects of word fre...   \n",
       "4  Amherst685 at SemEval-2021 Task 7: Joint Model...   \n",
       "\n",
       "                                            abstract  \\\n",
       "0  Sequence-to-sequence models usually transfer a...   \n",
       "1  Pretraining NLP models with variants of Masked...   \n",
       "2  According to the wide-spread belief, although ...   \n",
       "3  A number of psycholinguistic studies have fact...   \n",
       "4  This paper describes our submission to theSemE...   \n",
       "\n",
       "                                             authors     venue  year  \\\n",
       "0            [Biao Zhang, Ivan Titov, Rico Sennrich]  FINDINGS  2021   \n",
       "1               [Sinong Wang, Madian Khabsa, Hao Ma]       ACL  2020   \n",
       "2                                         [L. Fejes]            2018   \n",
       "3                                       [Cory Shain]     NAACL  2019   \n",
       "4  [Brian Zylich, Akshay Gugnani, Gabriel Brookma...   SEMEVAL  2021   \n",
       "\n",
       "   references                                             topics  \\\n",
       "0          47  [Encoder, Transformer, Automatic summarization...   \n",
       "1          18  [Supervised learning, Language model, Document...   \n",
       "2           8  [Rounding, Lexicon, Tracer, Body of uterus, Cl...   \n",
       "3          52  [Word lists by frequency, Text corpus, Sentenc...   \n",
       "4          17                                                 []   \n",
       "\n",
       "   is_open_access                  fields_of_study  \n",
       "0           False               [Computer Science]  \n",
       "1            True  [Computer Science, Mathematics]  \n",
       "2            True               [Computer Science]  \n",
       "3            True               [Computer Science]  \n",
       "4           False               [Computer Science]  "
      ]
     },
     "execution_count": 7,
     "metadata": {},
     "output_type": "execute_result"
    }
   ],
   "source": [
    "df_test.head()"
   ]
  },
  {
   "cell_type": "code",
   "execution_count": 8,
   "metadata": {},
   "outputs": [
    {
     "data": {
      "text/plain": [
       "(9658, 11)"
      ]
     },
     "execution_count": 8,
     "metadata": {},
     "output_type": "execute_result"
    }
   ],
   "source": [
    "df_train.shape"
   ]
  },
  {
   "cell_type": "code",
   "execution_count": 9,
   "metadata": {},
   "outputs": [
    {
     "data": {
      "text/plain": [
       "(1000, 10)"
      ]
     },
     "execution_count": 9,
     "metadata": {},
     "output_type": "execute_result"
    }
   ],
   "source": [
    "df_test.shape"
   ]
  },
  {
   "cell_type": "code",
   "execution_count": 10,
   "metadata": {},
   "outputs": [
    {
     "data": {
      "text/plain": [
       "doi                  0\n",
       "title                0\n",
       "abstract           159\n",
       "authors              0\n",
       "venue                0\n",
       "year                 3\n",
       "references           0\n",
       "topics               0\n",
       "is_open_access       0\n",
       "fields_of_study    136\n",
       "citations            0\n",
       "dtype: int64"
      ]
     },
     "execution_count": 10,
     "metadata": {},
     "output_type": "execute_result"
    }
   ],
   "source": [
    "df_train.isnull().sum()"
   ]
  },
  {
   "cell_type": "code",
   "execution_count": 11,
   "metadata": {},
   "outputs": [
    {
     "data": {
      "text/plain": [
       "doi                 0\n",
       "title               0\n",
       "abstract           19\n",
       "authors             0\n",
       "venue               0\n",
       "year                0\n",
       "references          0\n",
       "topics              0\n",
       "is_open_access      0\n",
       "fields_of_study    13\n",
       "dtype: int64"
      ]
     },
     "execution_count": 11,
     "metadata": {},
     "output_type": "execute_result"
    }
   ],
   "source": [
    "df_test.isnull().sum()"
   ]
  },
  {
   "cell_type": "code",
   "execution_count": 12,
   "metadata": {},
   "outputs": [],
   "source": [
    "#drop rows with missing values\n",
    "df_train = df_train.dropna()\n",
    "df_test = df_test.dropna()"
   ]
  },
  {
   "cell_type": "code",
   "execution_count": 13,
   "metadata": {},
   "outputs": [],
   "source": [
    "df_train[\"authors\"] = [\",\".join(i) for i in df_train[\"authors\"]]\n",
    "df_train[\"topics\"] = [\",\".join(i) for i in df_train[\"topics\"]]\n",
    "df_train[\"fields_of_study\"] = [\",\".join(i) for i in df_train[\"fields_of_study\"]]"
   ]
  },
  {
   "cell_type": "code",
   "execution_count": 14,
   "metadata": {},
   "outputs": [],
   "source": [
    "df_train = df_train.replace(r'^\\s*$', np.nan, regex=True)"
   ]
  },
  {
   "cell_type": "code",
   "execution_count": 15,
   "metadata": {},
   "outputs": [
    {
     "data": {
      "text/plain": [
       "doi                   0\n",
       "title                 0\n",
       "abstract              0\n",
       "authors               0\n",
       "venue               403\n",
       "year                  0\n",
       "references            0\n",
       "topics             1940\n",
       "is_open_access        0\n",
       "fields_of_study       0\n",
       "citations             0\n",
       "dtype: int64"
      ]
     },
     "execution_count": 15,
     "metadata": {},
     "output_type": "execute_result"
    }
   ],
   "source": [
    "df_train.isnull().sum()"
   ]
  },
  {
   "cell_type": "code",
   "execution_count": 16,
   "metadata": {},
   "outputs": [
    {
     "data": {
      "text/plain": [
       "'ACL'"
      ]
     },
     "execution_count": 16,
     "metadata": {},
     "output_type": "execute_result"
    }
   ],
   "source": [
    "mode_venue = df_train[\"venue\"].mode().values[0]\n",
    "mode_venue"
   ]
  },
  {
   "cell_type": "code",
   "execution_count": 17,
   "metadata": {},
   "outputs": [
    {
     "data": {
      "text/plain": [
       "'Neural machine translation'"
      ]
     },
     "execution_count": 17,
     "metadata": {},
     "output_type": "execute_result"
    }
   ],
   "source": [
    "mode_topics = df_train[\"topics\"].mode().values[0]\n",
    "mode_topics"
   ]
  },
  {
   "cell_type": "code",
   "execution_count": 18,
   "metadata": {},
   "outputs": [],
   "source": [
    "df_train[\"venue\"] = df_train[\"venue\"].fillna(mode_venue)"
   ]
  },
  {
   "cell_type": "code",
   "execution_count": 19,
   "metadata": {},
   "outputs": [],
   "source": [
    "df_train[\"topics\"] = df_train[\"topics\"].fillna(mode_topics)"
   ]
  },
  {
   "cell_type": "code",
   "execution_count": 20,
   "metadata": {},
   "outputs": [
    {
     "data": {
      "text/plain": [
       "doi                0\n",
       "title              0\n",
       "abstract           0\n",
       "authors            0\n",
       "venue              0\n",
       "year               0\n",
       "references         0\n",
       "topics             0\n",
       "is_open_access     0\n",
       "fields_of_study    0\n",
       "citations          0\n",
       "dtype: int64"
      ]
     },
     "execution_count": 20,
     "metadata": {},
     "output_type": "execute_result"
    }
   ],
   "source": [
    "df_train.isnull().sum()"
   ]
  },
  {
   "cell_type": "code",
   "execution_count": 21,
   "metadata": {},
   "outputs": [],
   "source": [
    "df_test[\"authors\"] = [\",\".join(i) for i in df_test[\"authors\"]]\n",
    "df_test[\"topics\"] = [\",\".join(i) for i in df_test[\"topics\"]]\n",
    "df_test[\"fields_of_study\"] = [\",\".join(i) for i in df_test[\"fields_of_study\"]]"
   ]
  },
  {
   "cell_type": "code",
   "execution_count": 22,
   "metadata": {},
   "outputs": [],
   "source": [
    "df_test = df_test.replace(r'^\\s*$', np.nan, regex=True)"
   ]
  },
  {
   "cell_type": "code",
   "execution_count": 23,
   "metadata": {},
   "outputs": [
    {
     "data": {
      "text/plain": [
       "doi                  0\n",
       "title                0\n",
       "abstract             0\n",
       "authors              0\n",
       "venue               50\n",
       "year                 0\n",
       "references           0\n",
       "topics             209\n",
       "is_open_access       0\n",
       "fields_of_study      0\n",
       "dtype: int64"
      ]
     },
     "execution_count": 23,
     "metadata": {},
     "output_type": "execute_result"
    }
   ],
   "source": [
    "df_test.isnull().sum()"
   ]
  },
  {
   "cell_type": "code",
   "execution_count": 24,
   "metadata": {},
   "outputs": [
    {
     "data": {
      "text/plain": [
       "'ACL'"
      ]
     },
     "execution_count": 24,
     "metadata": {},
     "output_type": "execute_result"
    }
   ],
   "source": [
    "mode_v = df_test[\"venue\"].mode().values[0]\n",
    "mode_v"
   ]
  },
  {
   "cell_type": "code",
   "execution_count": 25,
   "metadata": {},
   "outputs": [
    {
     "data": {
      "text/plain": [
       "'Named-entity recognition'"
      ]
     },
     "execution_count": 25,
     "metadata": {},
     "output_type": "execute_result"
    }
   ],
   "source": [
    "mode_top = df_test[\"topics\"].mode().values[0]\n",
    "mode_top"
   ]
  },
  {
   "cell_type": "code",
   "execution_count": 26,
   "metadata": {},
   "outputs": [],
   "source": [
    "df_test[\"venue\"] = df_test[\"venue\"].fillna(mode_v)"
   ]
  },
  {
   "cell_type": "code",
   "execution_count": 27,
   "metadata": {},
   "outputs": [],
   "source": [
    "df_test[\"topics\"] = df_test[\"topics\"].fillna(mode_top)"
   ]
  },
  {
   "cell_type": "code",
   "execution_count": 28,
   "metadata": {},
   "outputs": [
    {
     "data": {
      "text/plain": [
       "doi                0\n",
       "title              0\n",
       "abstract           0\n",
       "authors            0\n",
       "venue              0\n",
       "year               0\n",
       "references         0\n",
       "topics             0\n",
       "is_open_access     0\n",
       "fields_of_study    0\n",
       "dtype: int64"
      ]
     },
     "execution_count": 28,
     "metadata": {},
     "output_type": "execute_result"
    }
   ],
   "source": [
    "df_test.isnull().sum()"
   ]
  },
  {
   "cell_type": "code",
   "execution_count": 29,
   "metadata": {},
   "outputs": [
    {
     "data": {
      "text/plain": [
       "(9381, 11)"
      ]
     },
     "execution_count": 29,
     "metadata": {},
     "output_type": "execute_result"
    }
   ],
   "source": [
    "df_train.shape"
   ]
  },
  {
   "cell_type": "code",
   "execution_count": 30,
   "metadata": {},
   "outputs": [
    {
     "data": {
      "text/plain": [
       "(968, 10)"
      ]
     },
     "execution_count": 30,
     "metadata": {},
     "output_type": "execute_result"
    }
   ],
   "source": [
    "df_test.shape"
   ]
  },
  {
   "cell_type": "code",
   "execution_count": 31,
   "metadata": {},
   "outputs": [],
   "source": [
    "df_train[\"year\"] = df_train[\"year\"].astype(int)"
   ]
  },
  {
   "cell_type": "code",
   "execution_count": 32,
   "metadata": {},
   "outputs": [],
   "source": [
    "df_combined = df_train.append(df_test, ignore_index=True)"
   ]
  },
  {
   "cell_type": "code",
   "execution_count": 33,
   "metadata": {},
   "outputs": [
    {
     "data": {
      "text/html": [
       "<div>\n",
       "<style scoped>\n",
       "    .dataframe tbody tr th:only-of-type {\n",
       "        vertical-align: middle;\n",
       "    }\n",
       "\n",
       "    .dataframe tbody tr th {\n",
       "        vertical-align: top;\n",
       "    }\n",
       "\n",
       "    .dataframe thead th {\n",
       "        text-align: right;\n",
       "    }\n",
       "</style>\n",
       "<table border=\"1\" class=\"dataframe\">\n",
       "  <thead>\n",
       "    <tr style=\"text-align: right;\">\n",
       "      <th></th>\n",
       "      <th>doi</th>\n",
       "      <th>title</th>\n",
       "      <th>abstract</th>\n",
       "      <th>authors</th>\n",
       "      <th>venue</th>\n",
       "      <th>year</th>\n",
       "      <th>references</th>\n",
       "      <th>topics</th>\n",
       "      <th>is_open_access</th>\n",
       "      <th>fields_of_study</th>\n",
       "      <th>citations</th>\n",
       "    </tr>\n",
       "  </thead>\n",
       "  <tbody>\n",
       "    <tr>\n",
       "      <th>0</th>\n",
       "      <td>10.3115/v1/P15-1039</td>\n",
       "      <td>Generating High Quality Proposition Banks for ...</td>\n",
       "      <td>Semantic role labeling (SRL) is crucial to nat...</td>\n",
       "      <td>A. Akbik,Laura Chiticariu,Marina Danilevsky,Yu...</td>\n",
       "      <td>ACL</td>\n",
       "      <td>2015</td>\n",
       "      <td>39</td>\n",
       "      <td>Semantic role labeling</td>\n",
       "      <td>True</td>\n",
       "      <td>Computer Science</td>\n",
       "      <td>60.0</td>\n",
       "    </tr>\n",
       "    <tr>\n",
       "      <th>1</th>\n",
       "      <td>10.18653/v1/2020.eval4nlp-1.12</td>\n",
       "      <td>One of these words is not like the other: a re...</td>\n",
       "      <td>Word embeddings are an active topic in the NLP...</td>\n",
       "      <td>Jesper Brink Andersen,Mikkel Bak Bertelsen,Mik...</td>\n",
       "      <td>EVAL4NLP</td>\n",
       "      <td>2020</td>\n",
       "      <td>44</td>\n",
       "      <td>Neural machine translation</td>\n",
       "      <td>True</td>\n",
       "      <td>Computer Science</td>\n",
       "      <td>1.0</td>\n",
       "    </tr>\n",
       "    <tr>\n",
       "      <th>2</th>\n",
       "      <td>10.18653/v1/W17-3516</td>\n",
       "      <td>The Code2Text Challenge: Text Generation in So...</td>\n",
       "      <td>We propose a new shared task for tactical data...</td>\n",
       "      <td>Kyle Richardson,Sina Zarrieß,Jonas Kuhn</td>\n",
       "      <td>INLG</td>\n",
       "      <td>2017</td>\n",
       "      <td>30</td>\n",
       "      <td>Natural language generation,Library (computing...</td>\n",
       "      <td>True</td>\n",
       "      <td>Computer Science</td>\n",
       "      <td>5.0</td>\n",
       "    </tr>\n",
       "    <tr>\n",
       "      <th>3</th>\n",
       "      <td>10.18653/v1/S17-2160</td>\n",
       "      <td>The Meaning Factory at SemEval-2017 Task 9: Pr...</td>\n",
       "      <td>We evaluate a semantic parser based on a chara...</td>\n",
       "      <td>Rik van Noord,Johan Bos</td>\n",
       "      <td>SemEval@ACL</td>\n",
       "      <td>2017</td>\n",
       "      <td>11</td>\n",
       "      <td>Parsing,Convolutional neural network,Text-base...</td>\n",
       "      <td>True</td>\n",
       "      <td>Computer Science</td>\n",
       "      <td>5.0</td>\n",
       "    </tr>\n",
       "    <tr>\n",
       "      <th>4</th>\n",
       "      <td>10.18653/v1/W15-2205</td>\n",
       "      <td>Semantic Parsing for Textual Entailment</td>\n",
       "      <td>In this paper we gauge the utility of general-...</td>\n",
       "      <td>Elisabeth Lien,Milen Kouylekov</td>\n",
       "      <td>IWPT</td>\n",
       "      <td>2015</td>\n",
       "      <td>26</td>\n",
       "      <td>Textual entailment,Parsing,SemEval,Semantic We...</td>\n",
       "      <td>True</td>\n",
       "      <td>Computer Science</td>\n",
       "      <td>10.0</td>\n",
       "    </tr>\n",
       "  </tbody>\n",
       "</table>\n",
       "</div>"
      ],
      "text/plain": [
       "                              doi  \\\n",
       "0             10.3115/v1/P15-1039   \n",
       "1  10.18653/v1/2020.eval4nlp-1.12   \n",
       "2            10.18653/v1/W17-3516   \n",
       "3            10.18653/v1/S17-2160   \n",
       "4            10.18653/v1/W15-2205   \n",
       "\n",
       "                                               title  \\\n",
       "0  Generating High Quality Proposition Banks for ...   \n",
       "1  One of these words is not like the other: a re...   \n",
       "2  The Code2Text Challenge: Text Generation in So...   \n",
       "3  The Meaning Factory at SemEval-2017 Task 9: Pr...   \n",
       "4            Semantic Parsing for Textual Entailment   \n",
       "\n",
       "                                            abstract  \\\n",
       "0  Semantic role labeling (SRL) is crucial to nat...   \n",
       "1  Word embeddings are an active topic in the NLP...   \n",
       "2  We propose a new shared task for tactical data...   \n",
       "3  We evaluate a semantic parser based on a chara...   \n",
       "4  In this paper we gauge the utility of general-...   \n",
       "\n",
       "                                             authors        venue  year  \\\n",
       "0  A. Akbik,Laura Chiticariu,Marina Danilevsky,Yu...          ACL  2015   \n",
       "1  Jesper Brink Andersen,Mikkel Bak Bertelsen,Mik...     EVAL4NLP  2020   \n",
       "2            Kyle Richardson,Sina Zarrieß,Jonas Kuhn         INLG  2017   \n",
       "3                            Rik van Noord,Johan Bos  SemEval@ACL  2017   \n",
       "4                     Elisabeth Lien,Milen Kouylekov         IWPT  2015   \n",
       "\n",
       "   references                                             topics  \\\n",
       "0          39                             Semantic role labeling   \n",
       "1          44                         Neural machine translation   \n",
       "2          30  Natural language generation,Library (computing...   \n",
       "3          11  Parsing,Convolutional neural network,Text-base...   \n",
       "4          26  Textual entailment,Parsing,SemEval,Semantic We...   \n",
       "\n",
       "   is_open_access   fields_of_study  citations  \n",
       "0            True  Computer Science       60.0  \n",
       "1            True  Computer Science        1.0  \n",
       "2            True  Computer Science        5.0  \n",
       "3            True  Computer Science        5.0  \n",
       "4            True  Computer Science       10.0  "
      ]
     },
     "execution_count": 33,
     "metadata": {},
     "output_type": "execute_result"
    }
   ],
   "source": [
    "df_combined.head()"
   ]
  },
  {
   "cell_type": "code",
   "execution_count": 34,
   "metadata": {},
   "outputs": [
    {
     "name": "stdout",
     "output_type": "stream",
     "text": [
      "1\n"
     ]
    }
   ],
   "source": [
    "duplicates = df_combined.duplicated()\n",
    "print(duplicates.sum())"
   ]
  },
  {
   "cell_type": "code",
   "execution_count": 35,
   "metadata": {},
   "outputs": [],
   "source": [
    "df_combined.drop_duplicates(inplace=True)"
   ]
  },
  {
   "cell_type": "code",
   "execution_count": 36,
   "metadata": {},
   "outputs": [
    {
     "name": "stdout",
     "output_type": "stream",
     "text": [
      "0\n"
     ]
    }
   ],
   "source": [
    "d_check = df_combined.duplicated()\n",
    "print(d_check.sum())"
   ]
  },
  {
   "cell_type": "code",
   "execution_count": 37,
   "metadata": {},
   "outputs": [],
   "source": [
    "def clean_venue(text):\n",
    "    n = re.sub(r'[0-9]', \"\", text)\n",
    "    p = re.sub(r'[^\\w\\s]', \"\", n.lower().strip())\n",
    "    return p"
   ]
  },
  {
   "cell_type": "code",
   "execution_count": 38,
   "metadata": {},
   "outputs": [],
   "source": [
    "df_combined[\"venue\"] = df_combined[\"venue\"].apply(lambda x: clean_venue(x))"
   ]
  },
  {
   "cell_type": "code",
   "execution_count": 39,
   "metadata": {},
   "outputs": [
    {
     "data": {
      "text/html": [
       "<div>\n",
       "<style scoped>\n",
       "    .dataframe tbody tr th:only-of-type {\n",
       "        vertical-align: middle;\n",
       "    }\n",
       "\n",
       "    .dataframe tbody tr th {\n",
       "        vertical-align: top;\n",
       "    }\n",
       "\n",
       "    .dataframe thead th {\n",
       "        text-align: right;\n",
       "    }\n",
       "</style>\n",
       "<table border=\"1\" class=\"dataframe\">\n",
       "  <thead>\n",
       "    <tr style=\"text-align: right;\">\n",
       "      <th></th>\n",
       "      <th>doi</th>\n",
       "      <th>title</th>\n",
       "      <th>abstract</th>\n",
       "      <th>authors</th>\n",
       "      <th>venue</th>\n",
       "      <th>year</th>\n",
       "      <th>references</th>\n",
       "      <th>topics</th>\n",
       "      <th>is_open_access</th>\n",
       "      <th>fields_of_study</th>\n",
       "      <th>citations</th>\n",
       "    </tr>\n",
       "  </thead>\n",
       "  <tbody>\n",
       "    <tr>\n",
       "      <th>0</th>\n",
       "      <td>10.3115/v1/P15-1039</td>\n",
       "      <td>Generating High Quality Proposition Banks for ...</td>\n",
       "      <td>Semantic role labeling (SRL) is crucial to nat...</td>\n",
       "      <td>A. Akbik,Laura Chiticariu,Marina Danilevsky,Yu...</td>\n",
       "      <td>acl</td>\n",
       "      <td>2015</td>\n",
       "      <td>39</td>\n",
       "      <td>Semantic role labeling</td>\n",
       "      <td>True</td>\n",
       "      <td>Computer Science</td>\n",
       "      <td>60.0</td>\n",
       "    </tr>\n",
       "    <tr>\n",
       "      <th>1</th>\n",
       "      <td>10.18653/v1/2020.eval4nlp-1.12</td>\n",
       "      <td>One of these words is not like the other: a re...</td>\n",
       "      <td>Word embeddings are an active topic in the NLP...</td>\n",
       "      <td>Jesper Brink Andersen,Mikkel Bak Bertelsen,Mik...</td>\n",
       "      <td>evalnlp</td>\n",
       "      <td>2020</td>\n",
       "      <td>44</td>\n",
       "      <td>Neural machine translation</td>\n",
       "      <td>True</td>\n",
       "      <td>Computer Science</td>\n",
       "      <td>1.0</td>\n",
       "    </tr>\n",
       "    <tr>\n",
       "      <th>2</th>\n",
       "      <td>10.18653/v1/W17-3516</td>\n",
       "      <td>The Code2Text Challenge: Text Generation in So...</td>\n",
       "      <td>We propose a new shared task for tactical data...</td>\n",
       "      <td>Kyle Richardson,Sina Zarrieß,Jonas Kuhn</td>\n",
       "      <td>inlg</td>\n",
       "      <td>2017</td>\n",
       "      <td>30</td>\n",
       "      <td>Natural language generation,Library (computing...</td>\n",
       "      <td>True</td>\n",
       "      <td>Computer Science</td>\n",
       "      <td>5.0</td>\n",
       "    </tr>\n",
       "    <tr>\n",
       "      <th>3</th>\n",
       "      <td>10.18653/v1/S17-2160</td>\n",
       "      <td>The Meaning Factory at SemEval-2017 Task 9: Pr...</td>\n",
       "      <td>We evaluate a semantic parser based on a chara...</td>\n",
       "      <td>Rik van Noord,Johan Bos</td>\n",
       "      <td>semevalacl</td>\n",
       "      <td>2017</td>\n",
       "      <td>11</td>\n",
       "      <td>Parsing,Convolutional neural network,Text-base...</td>\n",
       "      <td>True</td>\n",
       "      <td>Computer Science</td>\n",
       "      <td>5.0</td>\n",
       "    </tr>\n",
       "    <tr>\n",
       "      <th>4</th>\n",
       "      <td>10.18653/v1/W15-2205</td>\n",
       "      <td>Semantic Parsing for Textual Entailment</td>\n",
       "      <td>In this paper we gauge the utility of general-...</td>\n",
       "      <td>Elisabeth Lien,Milen Kouylekov</td>\n",
       "      <td>iwpt</td>\n",
       "      <td>2015</td>\n",
       "      <td>26</td>\n",
       "      <td>Textual entailment,Parsing,SemEval,Semantic We...</td>\n",
       "      <td>True</td>\n",
       "      <td>Computer Science</td>\n",
       "      <td>10.0</td>\n",
       "    </tr>\n",
       "  </tbody>\n",
       "</table>\n",
       "</div>"
      ],
      "text/plain": [
       "                              doi  \\\n",
       "0             10.3115/v1/P15-1039   \n",
       "1  10.18653/v1/2020.eval4nlp-1.12   \n",
       "2            10.18653/v1/W17-3516   \n",
       "3            10.18653/v1/S17-2160   \n",
       "4            10.18653/v1/W15-2205   \n",
       "\n",
       "                                               title  \\\n",
       "0  Generating High Quality Proposition Banks for ...   \n",
       "1  One of these words is not like the other: a re...   \n",
       "2  The Code2Text Challenge: Text Generation in So...   \n",
       "3  The Meaning Factory at SemEval-2017 Task 9: Pr...   \n",
       "4            Semantic Parsing for Textual Entailment   \n",
       "\n",
       "                                            abstract  \\\n",
       "0  Semantic role labeling (SRL) is crucial to nat...   \n",
       "1  Word embeddings are an active topic in the NLP...   \n",
       "2  We propose a new shared task for tactical data...   \n",
       "3  We evaluate a semantic parser based on a chara...   \n",
       "4  In this paper we gauge the utility of general-...   \n",
       "\n",
       "                                             authors       venue  year  \\\n",
       "0  A. Akbik,Laura Chiticariu,Marina Danilevsky,Yu...         acl  2015   \n",
       "1  Jesper Brink Andersen,Mikkel Bak Bertelsen,Mik...     evalnlp  2020   \n",
       "2            Kyle Richardson,Sina Zarrieß,Jonas Kuhn        inlg  2017   \n",
       "3                            Rik van Noord,Johan Bos  semevalacl  2017   \n",
       "4                     Elisabeth Lien,Milen Kouylekov        iwpt  2015   \n",
       "\n",
       "   references                                             topics  \\\n",
       "0          39                             Semantic role labeling   \n",
       "1          44                         Neural machine translation   \n",
       "2          30  Natural language generation,Library (computing...   \n",
       "3          11  Parsing,Convolutional neural network,Text-base...   \n",
       "4          26  Textual entailment,Parsing,SemEval,Semantic We...   \n",
       "\n",
       "   is_open_access   fields_of_study  citations  \n",
       "0            True  Computer Science       60.0  \n",
       "1            True  Computer Science        1.0  \n",
       "2            True  Computer Science        5.0  \n",
       "3            True  Computer Science        5.0  \n",
       "4            True  Computer Science       10.0  "
      ]
     },
     "execution_count": 39,
     "metadata": {},
     "output_type": "execute_result"
    }
   ],
   "source": [
    "df_combined.head()"
   ]
  },
  {
   "cell_type": "markdown",
   "metadata": {},
   "source": [
    "### One-Hot Encoding Categorical Variables\n",
    "venue, year,is_open_access, fields_of_study"
   ]
  },
  {
   "cell_type": "code",
   "execution_count": 40,
   "metadata": {},
   "outputs": [],
   "source": [
    "df_combined = pd.get_dummies(df_combined, columns=[\"venue\", \"year\", \"is_open_access\", \"fields_of_study\"])"
   ]
  },
  {
   "cell_type": "code",
   "execution_count": 41,
   "metadata": {},
   "outputs": [
    {
     "data": {
      "text/plain": [
       "(10348, 368)"
      ]
     },
     "execution_count": 41,
     "metadata": {},
     "output_type": "execute_result"
    }
   ],
   "source": [
    "df_combined.shape"
   ]
  },
  {
   "cell_type": "code",
   "execution_count": 42,
   "metadata": {},
   "outputs": [
    {
     "data": {
      "text/html": [
       "<div>\n",
       "<style scoped>\n",
       "    .dataframe tbody tr th:only-of-type {\n",
       "        vertical-align: middle;\n",
       "    }\n",
       "\n",
       "    .dataframe tbody tr th {\n",
       "        vertical-align: top;\n",
       "    }\n",
       "\n",
       "    .dataframe thead th {\n",
       "        text-align: right;\n",
       "    }\n",
       "</style>\n",
       "<table border=\"1\" class=\"dataframe\">\n",
       "  <thead>\n",
       "    <tr style=\"text-align: right;\">\n",
       "      <th></th>\n",
       "      <th>doi</th>\n",
       "      <th>title</th>\n",
       "      <th>abstract</th>\n",
       "      <th>authors</th>\n",
       "      <th>references</th>\n",
       "      <th>topics</th>\n",
       "      <th>citations</th>\n",
       "      <th>venue_acl</th>\n",
       "      <th>venue_acl workshop on natural language processing in the biomedical domain</th>\n",
       "      <th>venue_aclijcnlp</th>\n",
       "      <th>...</th>\n",
       "      <th>fields_of_study_Medicine,Psychology</th>\n",
       "      <th>fields_of_study_Philosophy</th>\n",
       "      <th>fields_of_study_Philosophy,Computer Science</th>\n",
       "      <th>fields_of_study_Political Science</th>\n",
       "      <th>fields_of_study_Political Science,Computer Science</th>\n",
       "      <th>fields_of_study_Psychology</th>\n",
       "      <th>fields_of_study_Psychology,Computer Science</th>\n",
       "      <th>fields_of_study_Psychology,Medicine</th>\n",
       "      <th>fields_of_study_Sociology</th>\n",
       "      <th>fields_of_study_Sociology,Computer Science</th>\n",
       "    </tr>\n",
       "  </thead>\n",
       "  <tbody>\n",
       "    <tr>\n",
       "      <th>0</th>\n",
       "      <td>10.3115/v1/P15-1039</td>\n",
       "      <td>Generating High Quality Proposition Banks for ...</td>\n",
       "      <td>Semantic role labeling (SRL) is crucial to nat...</td>\n",
       "      <td>A. Akbik,Laura Chiticariu,Marina Danilevsky,Yu...</td>\n",
       "      <td>39</td>\n",
       "      <td>Semantic role labeling</td>\n",
       "      <td>60.0</td>\n",
       "      <td>1</td>\n",
       "      <td>0</td>\n",
       "      <td>0</td>\n",
       "      <td>...</td>\n",
       "      <td>0</td>\n",
       "      <td>0</td>\n",
       "      <td>0</td>\n",
       "      <td>0</td>\n",
       "      <td>0</td>\n",
       "      <td>0</td>\n",
       "      <td>0</td>\n",
       "      <td>0</td>\n",
       "      <td>0</td>\n",
       "      <td>0</td>\n",
       "    </tr>\n",
       "    <tr>\n",
       "      <th>1</th>\n",
       "      <td>10.18653/v1/2020.eval4nlp-1.12</td>\n",
       "      <td>One of these words is not like the other: a re...</td>\n",
       "      <td>Word embeddings are an active topic in the NLP...</td>\n",
       "      <td>Jesper Brink Andersen,Mikkel Bak Bertelsen,Mik...</td>\n",
       "      <td>44</td>\n",
       "      <td>Neural machine translation</td>\n",
       "      <td>1.0</td>\n",
       "      <td>0</td>\n",
       "      <td>0</td>\n",
       "      <td>0</td>\n",
       "      <td>...</td>\n",
       "      <td>0</td>\n",
       "      <td>0</td>\n",
       "      <td>0</td>\n",
       "      <td>0</td>\n",
       "      <td>0</td>\n",
       "      <td>0</td>\n",
       "      <td>0</td>\n",
       "      <td>0</td>\n",
       "      <td>0</td>\n",
       "      <td>0</td>\n",
       "    </tr>\n",
       "    <tr>\n",
       "      <th>2</th>\n",
       "      <td>10.18653/v1/W17-3516</td>\n",
       "      <td>The Code2Text Challenge: Text Generation in So...</td>\n",
       "      <td>We propose a new shared task for tactical data...</td>\n",
       "      <td>Kyle Richardson,Sina Zarrieß,Jonas Kuhn</td>\n",
       "      <td>30</td>\n",
       "      <td>Natural language generation,Library (computing...</td>\n",
       "      <td>5.0</td>\n",
       "      <td>0</td>\n",
       "      <td>0</td>\n",
       "      <td>0</td>\n",
       "      <td>...</td>\n",
       "      <td>0</td>\n",
       "      <td>0</td>\n",
       "      <td>0</td>\n",
       "      <td>0</td>\n",
       "      <td>0</td>\n",
       "      <td>0</td>\n",
       "      <td>0</td>\n",
       "      <td>0</td>\n",
       "      <td>0</td>\n",
       "      <td>0</td>\n",
       "    </tr>\n",
       "    <tr>\n",
       "      <th>3</th>\n",
       "      <td>10.18653/v1/S17-2160</td>\n",
       "      <td>The Meaning Factory at SemEval-2017 Task 9: Pr...</td>\n",
       "      <td>We evaluate a semantic parser based on a chara...</td>\n",
       "      <td>Rik van Noord,Johan Bos</td>\n",
       "      <td>11</td>\n",
       "      <td>Parsing,Convolutional neural network,Text-base...</td>\n",
       "      <td>5.0</td>\n",
       "      <td>0</td>\n",
       "      <td>0</td>\n",
       "      <td>0</td>\n",
       "      <td>...</td>\n",
       "      <td>0</td>\n",
       "      <td>0</td>\n",
       "      <td>0</td>\n",
       "      <td>0</td>\n",
       "      <td>0</td>\n",
       "      <td>0</td>\n",
       "      <td>0</td>\n",
       "      <td>0</td>\n",
       "      <td>0</td>\n",
       "      <td>0</td>\n",
       "    </tr>\n",
       "    <tr>\n",
       "      <th>4</th>\n",
       "      <td>10.18653/v1/W15-2205</td>\n",
       "      <td>Semantic Parsing for Textual Entailment</td>\n",
       "      <td>In this paper we gauge the utility of general-...</td>\n",
       "      <td>Elisabeth Lien,Milen Kouylekov</td>\n",
       "      <td>26</td>\n",
       "      <td>Textual entailment,Parsing,SemEval,Semantic We...</td>\n",
       "      <td>10.0</td>\n",
       "      <td>0</td>\n",
       "      <td>0</td>\n",
       "      <td>0</td>\n",
       "      <td>...</td>\n",
       "      <td>0</td>\n",
       "      <td>0</td>\n",
       "      <td>0</td>\n",
       "      <td>0</td>\n",
       "      <td>0</td>\n",
       "      <td>0</td>\n",
       "      <td>0</td>\n",
       "      <td>0</td>\n",
       "      <td>0</td>\n",
       "      <td>0</td>\n",
       "    </tr>\n",
       "  </tbody>\n",
       "</table>\n",
       "<p>5 rows × 368 columns</p>\n",
       "</div>"
      ],
      "text/plain": [
       "                              doi  \\\n",
       "0             10.3115/v1/P15-1039   \n",
       "1  10.18653/v1/2020.eval4nlp-1.12   \n",
       "2            10.18653/v1/W17-3516   \n",
       "3            10.18653/v1/S17-2160   \n",
       "4            10.18653/v1/W15-2205   \n",
       "\n",
       "                                               title  \\\n",
       "0  Generating High Quality Proposition Banks for ...   \n",
       "1  One of these words is not like the other: a re...   \n",
       "2  The Code2Text Challenge: Text Generation in So...   \n",
       "3  The Meaning Factory at SemEval-2017 Task 9: Pr...   \n",
       "4            Semantic Parsing for Textual Entailment   \n",
       "\n",
       "                                            abstract  \\\n",
       "0  Semantic role labeling (SRL) is crucial to nat...   \n",
       "1  Word embeddings are an active topic in the NLP...   \n",
       "2  We propose a new shared task for tactical data...   \n",
       "3  We evaluate a semantic parser based on a chara...   \n",
       "4  In this paper we gauge the utility of general-...   \n",
       "\n",
       "                                             authors  references  \\\n",
       "0  A. Akbik,Laura Chiticariu,Marina Danilevsky,Yu...          39   \n",
       "1  Jesper Brink Andersen,Mikkel Bak Bertelsen,Mik...          44   \n",
       "2            Kyle Richardson,Sina Zarrieß,Jonas Kuhn          30   \n",
       "3                            Rik van Noord,Johan Bos          11   \n",
       "4                     Elisabeth Lien,Milen Kouylekov          26   \n",
       "\n",
       "                                              topics  citations  venue_acl  \\\n",
       "0                             Semantic role labeling       60.0          1   \n",
       "1                         Neural machine translation        1.0          0   \n",
       "2  Natural language generation,Library (computing...        5.0          0   \n",
       "3  Parsing,Convolutional neural network,Text-base...        5.0          0   \n",
       "4  Textual entailment,Parsing,SemEval,Semantic We...       10.0          0   \n",
       "\n",
       "   venue_acl workshop on natural language processing in the biomedical domain  \\\n",
       "0                                                  0                            \n",
       "1                                                  0                            \n",
       "2                                                  0                            \n",
       "3                                                  0                            \n",
       "4                                                  0                            \n",
       "\n",
       "   venue_aclijcnlp  ...  fields_of_study_Medicine,Psychology  \\\n",
       "0                0  ...                                    0   \n",
       "1                0  ...                                    0   \n",
       "2                0  ...                                    0   \n",
       "3                0  ...                                    0   \n",
       "4                0  ...                                    0   \n",
       "\n",
       "   fields_of_study_Philosophy  fields_of_study_Philosophy,Computer Science  \\\n",
       "0                           0                                            0   \n",
       "1                           0                                            0   \n",
       "2                           0                                            0   \n",
       "3                           0                                            0   \n",
       "4                           0                                            0   \n",
       "\n",
       "   fields_of_study_Political Science  \\\n",
       "0                                  0   \n",
       "1                                  0   \n",
       "2                                  0   \n",
       "3                                  0   \n",
       "4                                  0   \n",
       "\n",
       "   fields_of_study_Political Science,Computer Science  \\\n",
       "0                                                  0    \n",
       "1                                                  0    \n",
       "2                                                  0    \n",
       "3                                                  0    \n",
       "4                                                  0    \n",
       "\n",
       "   fields_of_study_Psychology  fields_of_study_Psychology,Computer Science  \\\n",
       "0                           0                                            0   \n",
       "1                           0                                            0   \n",
       "2                           0                                            0   \n",
       "3                           0                                            0   \n",
       "4                           0                                            0   \n",
       "\n",
       "   fields_of_study_Psychology,Medicine  fields_of_study_Sociology  \\\n",
       "0                                    0                          0   \n",
       "1                                    0                          0   \n",
       "2                                    0                          0   \n",
       "3                                    0                          0   \n",
       "4                                    0                          0   \n",
       "\n",
       "   fields_of_study_Sociology,Computer Science  \n",
       "0                                           0  \n",
       "1                                           0  \n",
       "2                                           0  \n",
       "3                                           0  \n",
       "4                                           0  \n",
       "\n",
       "[5 rows x 368 columns]"
      ]
     },
     "execution_count": 42,
     "metadata": {},
     "output_type": "execute_result"
    }
   ],
   "source": [
    "df_combined.head()"
   ]
  },
  {
   "cell_type": "markdown",
   "metadata": {},
   "source": [
    "### Cleaning Text Data\n",
    "1.Lowercase,removing punctuations, numbers and special characters\\\n",
    "2.Removing stop words\\\n",
    "3.Tokenization\\\n",
    "4.Stemming or Lemmatization"
   ]
  },
  {
   "cell_type": "code",
   "execution_count": 43,
   "metadata": {},
   "outputs": [],
   "source": [
    "from nltk.corpus import stopwords\n",
    "\", \".join(stopwords.words('english'))\n",
    "Stopwords = set(stopwords.words('english'))"
   ]
  },
  {
   "cell_type": "code",
   "execution_count": 46,
   "metadata": {},
   "outputs": [],
   "source": [
    "def clean_text(text):\n",
    "    text_clean = \"\".join([word.lower() for word in text if word not in string.punctuation])\n",
    "    text_rc = re.sub('[0-9]+', '', text_clean)\n",
    "    tokens = re.split('\\W+', text_rc)\n",
    "    text = [word for word in tokens if word not in Stopwords]\n",
    "    return text"
   ]
  },
  {
   "cell_type": "code",
   "execution_count": 47,
   "metadata": {},
   "outputs": [],
   "source": [
    "df_combined[\"title\"] = df_combined[\"title\"].apply(lambda x: clean_text(x))"
   ]
  },
  {
   "cell_type": "code",
   "execution_count": 48,
   "metadata": {},
   "outputs": [],
   "source": [
    "df_combined[\"abstract\"] = df_combined[\"abstract\"].apply(lambda x: clean_text(x))"
   ]
  },
  {
   "cell_type": "code",
   "execution_count": 49,
   "metadata": {},
   "outputs": [],
   "source": [
    "authors = df_combined[[\"authors\"]]\n",
    "authors['authors_k'] = authors['authors'].apply(lambda x: \" \".join(x.lower() for x in x.split()))\n",
    "authors['authors_p'] = [x.replace(\".\",\" \").split(',') for x in authors['authors_k']]\n",
    "df_combined[\"authors\"] = authors['authors_p']"
   ]
  },
  {
   "cell_type": "code",
   "execution_count": 50,
   "metadata": {},
   "outputs": [],
   "source": [
    "topics = df_combined[[\"topics\"]]\n",
    "topics['topics_k'] = topics['topics'].apply(lambda x: \" \".join(x.lower() for x in x.split()))\n",
    "topics['topics_p'] = [x.replace(\" \", \",\").replace(\"(\",\"\").replace(\")\",\"\").split(',') for x in topics['topics_k']]\n",
    "df_combined[\"topics\"] = topics[\"topics_p\"]"
   ]
  },
  {
   "cell_type": "code",
   "execution_count": 51,
   "metadata": {},
   "outputs": [
    {
     "name": "stderr",
     "output_type": "stream",
     "text": [
      "[nltk_data] Downloading package wordnet to\n",
      "[nltk_data]     C:\\Users\\user\\AppData\\Roaming\\nltk_data...\n",
      "[nltk_data]   Package wordnet is already up-to-date!\n"
     ]
    },
    {
     "data": {
      "text/plain": [
       "True"
      ]
     },
     "execution_count": 51,
     "metadata": {},
     "output_type": "execute_result"
    }
   ],
   "source": [
    "nltk.download('wordnet')"
   ]
  },
  {
   "cell_type": "code",
   "execution_count": 52,
   "metadata": {},
   "outputs": [],
   "source": [
    "from nltk.stem import PorterStemmer"
   ]
  },
  {
   "cell_type": "code",
   "execution_count": 53,
   "metadata": {},
   "outputs": [],
   "source": [
    "ps = PorterStemmer()"
   ]
  },
  {
   "cell_type": "code",
   "execution_count": 54,
   "metadata": {},
   "outputs": [],
   "source": [
    "df_combined[\"title\"] = df_combined[\"title\"].apply(lambda x:[ps.stem(i) for i in x])"
   ]
  },
  {
   "cell_type": "code",
   "execution_count": 55,
   "metadata": {},
   "outputs": [],
   "source": [
    "df_combined[\"abstract\"] = df_combined[\"abstract\"].apply(lambda x:[ps.stem(i) for i in x])"
   ]
  },
  {
   "cell_type": "code",
   "execution_count": 56,
   "metadata": {},
   "outputs": [],
   "source": [
    "df_combined[\"topics\"] = df_combined[\"topics\"].apply(lambda x:[ps.stem(i) for i in x])"
   ]
  },
  {
   "cell_type": "code",
   "execution_count": 57,
   "metadata": {},
   "outputs": [],
   "source": [
    "df_combined[\"title\"] = [\" \".join(i) for i in df_combined[\"title\"]]"
   ]
  },
  {
   "cell_type": "code",
   "execution_count": 58,
   "metadata": {},
   "outputs": [],
   "source": [
    "df_combined[\"abstract\"] = [\" \".join(i) for i in df_combined[\"abstract\"]]"
   ]
  },
  {
   "cell_type": "code",
   "execution_count": 59,
   "metadata": {},
   "outputs": [],
   "source": [
    "df_combined[\"authors\"] = [\" \".join(i) for i in df_combined[\"authors\"]]"
   ]
  },
  {
   "cell_type": "code",
   "execution_count": 60,
   "metadata": {},
   "outputs": [],
   "source": [
    "df_combined[\"topics\"] = [\" \".join(i) for i in df_combined[\"topics\"]]"
   ]
  },
  {
   "cell_type": "code",
   "execution_count": 61,
   "metadata": {},
   "outputs": [
    {
     "data": {
      "text/html": [
       "<div>\n",
       "<style scoped>\n",
       "    .dataframe tbody tr th:only-of-type {\n",
       "        vertical-align: middle;\n",
       "    }\n",
       "\n",
       "    .dataframe tbody tr th {\n",
       "        vertical-align: top;\n",
       "    }\n",
       "\n",
       "    .dataframe thead th {\n",
       "        text-align: right;\n",
       "    }\n",
       "</style>\n",
       "<table border=\"1\" class=\"dataframe\">\n",
       "  <thead>\n",
       "    <tr style=\"text-align: right;\">\n",
       "      <th></th>\n",
       "      <th>doi</th>\n",
       "      <th>title</th>\n",
       "      <th>abstract</th>\n",
       "      <th>authors</th>\n",
       "      <th>references</th>\n",
       "      <th>topics</th>\n",
       "      <th>citations</th>\n",
       "      <th>venue_acl</th>\n",
       "      <th>venue_acl workshop on natural language processing in the biomedical domain</th>\n",
       "      <th>venue_aclijcnlp</th>\n",
       "      <th>...</th>\n",
       "      <th>fields_of_study_Medicine,Psychology</th>\n",
       "      <th>fields_of_study_Philosophy</th>\n",
       "      <th>fields_of_study_Philosophy,Computer Science</th>\n",
       "      <th>fields_of_study_Political Science</th>\n",
       "      <th>fields_of_study_Political Science,Computer Science</th>\n",
       "      <th>fields_of_study_Psychology</th>\n",
       "      <th>fields_of_study_Psychology,Computer Science</th>\n",
       "      <th>fields_of_study_Psychology,Medicine</th>\n",
       "      <th>fields_of_study_Sociology</th>\n",
       "      <th>fields_of_study_Sociology,Computer Science</th>\n",
       "    </tr>\n",
       "  </thead>\n",
       "  <tbody>\n",
       "    <tr>\n",
       "      <th>0</th>\n",
       "      <td>10.3115/v1/P15-1039</td>\n",
       "      <td>gener high qualiti proposit bank multilingu se...</td>\n",
       "      <td>semant role label srl crucial natur languag un...</td>\n",
       "      <td>a  akbik laura chiticariu marina danilevsky yu...</td>\n",
       "      <td>39</td>\n",
       "      <td>semant role label</td>\n",
       "      <td>60.0</td>\n",
       "      <td>1</td>\n",
       "      <td>0</td>\n",
       "      <td>0</td>\n",
       "      <td>...</td>\n",
       "      <td>0</td>\n",
       "      <td>0</td>\n",
       "      <td>0</td>\n",
       "      <td>0</td>\n",
       "      <td>0</td>\n",
       "      <td>0</td>\n",
       "      <td>0</td>\n",
       "      <td>0</td>\n",
       "      <td>0</td>\n",
       "      <td>0</td>\n",
       "    </tr>\n",
       "    <tr>\n",
       "      <th>1</th>\n",
       "      <td>10.18653/v1/2020.eval4nlp-1.12</td>\n",
       "      <td>one word like reproduct outlier identif use no...</td>\n",
       "      <td>word embed activ topic nlp research commun sta...</td>\n",
       "      <td>jesper brink andersen mikkel bak bertelsen mik...</td>\n",
       "      <td>44</td>\n",
       "      <td>neural machin translat</td>\n",
       "      <td>1.0</td>\n",
       "      <td>0</td>\n",
       "      <td>0</td>\n",
       "      <td>0</td>\n",
       "      <td>...</td>\n",
       "      <td>0</td>\n",
       "      <td>0</td>\n",
       "      <td>0</td>\n",
       "      <td>0</td>\n",
       "      <td>0</td>\n",
       "      <td>0</td>\n",
       "      <td>0</td>\n",
       "      <td>0</td>\n",
       "      <td>0</td>\n",
       "      <td>0</td>\n",
       "    </tr>\n",
       "    <tr>\n",
       "      <th>2</th>\n",
       "      <td>10.18653/v1/W17-3516</td>\n",
       "      <td>codetext challeng text gener sourc librari</td>\n",
       "      <td>propos new share task tactic datatotext gener ...</td>\n",
       "      <td>kyle richardson sina zarrieß jonas kuhn</td>\n",
       "      <td>30</td>\n",
       "      <td>natur languag gener librari comput program lan...</td>\n",
       "      <td>5.0</td>\n",
       "      <td>0</td>\n",
       "      <td>0</td>\n",
       "      <td>0</td>\n",
       "      <td>...</td>\n",
       "      <td>0</td>\n",
       "      <td>0</td>\n",
       "      <td>0</td>\n",
       "      <td>0</td>\n",
       "      <td>0</td>\n",
       "      <td>0</td>\n",
       "      <td>0</td>\n",
       "      <td>0</td>\n",
       "      <td>0</td>\n",
       "      <td>0</td>\n",
       "    </tr>\n",
       "    <tr>\n",
       "      <th>3</th>\n",
       "      <td>10.18653/v1/S17-2160</td>\n",
       "      <td>mean factori semev task produc amr neural sema...</td>\n",
       "      <td>evalu semant parser base characterbas sequence...</td>\n",
       "      <td>rik van noord johan bos</td>\n",
       "      <td>11</td>\n",
       "      <td>pars convolut neural network text-bas comput a...</td>\n",
       "      <td>5.0</td>\n",
       "      <td>0</td>\n",
       "      <td>0</td>\n",
       "      <td>0</td>\n",
       "      <td>...</td>\n",
       "      <td>0</td>\n",
       "      <td>0</td>\n",
       "      <td>0</td>\n",
       "      <td>0</td>\n",
       "      <td>0</td>\n",
       "      <td>0</td>\n",
       "      <td>0</td>\n",
       "      <td>0</td>\n",
       "      <td>0</td>\n",
       "      <td>0</td>\n",
       "    </tr>\n",
       "    <tr>\n",
       "      <th>4</th>\n",
       "      <td>10.18653/v1/W15-2205</td>\n",
       "      <td>semant pars textual entail</td>\n",
       "      <td>paper gaug util generalpurpos opendomain seman...</td>\n",
       "      <td>elisabeth lien milen kouylekov</td>\n",
       "      <td>26</td>\n",
       "      <td>textual entail pars semev semant web rule lang...</td>\n",
       "      <td>10.0</td>\n",
       "      <td>0</td>\n",
       "      <td>0</td>\n",
       "      <td>0</td>\n",
       "      <td>...</td>\n",
       "      <td>0</td>\n",
       "      <td>0</td>\n",
       "      <td>0</td>\n",
       "      <td>0</td>\n",
       "      <td>0</td>\n",
       "      <td>0</td>\n",
       "      <td>0</td>\n",
       "      <td>0</td>\n",
       "      <td>0</td>\n",
       "      <td>0</td>\n",
       "    </tr>\n",
       "  </tbody>\n",
       "</table>\n",
       "<p>5 rows × 368 columns</p>\n",
       "</div>"
      ],
      "text/plain": [
       "                              doi  \\\n",
       "0             10.3115/v1/P15-1039   \n",
       "1  10.18653/v1/2020.eval4nlp-1.12   \n",
       "2            10.18653/v1/W17-3516   \n",
       "3            10.18653/v1/S17-2160   \n",
       "4            10.18653/v1/W15-2205   \n",
       "\n",
       "                                               title  \\\n",
       "0  gener high qualiti proposit bank multilingu se...   \n",
       "1  one word like reproduct outlier identif use no...   \n",
       "2         codetext challeng text gener sourc librari   \n",
       "3  mean factori semev task produc amr neural sema...   \n",
       "4                         semant pars textual entail   \n",
       "\n",
       "                                            abstract  \\\n",
       "0  semant role label srl crucial natur languag un...   \n",
       "1  word embed activ topic nlp research commun sta...   \n",
       "2  propos new share task tactic datatotext gener ...   \n",
       "3  evalu semant parser base characterbas sequence...   \n",
       "4  paper gaug util generalpurpos opendomain seman...   \n",
       "\n",
       "                                             authors  references  \\\n",
       "0  a  akbik laura chiticariu marina danilevsky yu...          39   \n",
       "1  jesper brink andersen mikkel bak bertelsen mik...          44   \n",
       "2            kyle richardson sina zarrieß jonas kuhn          30   \n",
       "3                            rik van noord johan bos          11   \n",
       "4                     elisabeth lien milen kouylekov          26   \n",
       "\n",
       "                                              topics  citations  venue_acl  \\\n",
       "0                                  semant role label       60.0          1   \n",
       "1                             neural machin translat        1.0          0   \n",
       "2  natur languag gener librari comput program lan...        5.0          0   \n",
       "3  pars convolut neural network text-bas comput a...        5.0          0   \n",
       "4  textual entail pars semev semant web rule lang...       10.0          0   \n",
       "\n",
       "   venue_acl workshop on natural language processing in the biomedical domain  \\\n",
       "0                                                  0                            \n",
       "1                                                  0                            \n",
       "2                                                  0                            \n",
       "3                                                  0                            \n",
       "4                                                  0                            \n",
       "\n",
       "   venue_aclijcnlp  ...  fields_of_study_Medicine,Psychology  \\\n",
       "0                0  ...                                    0   \n",
       "1                0  ...                                    0   \n",
       "2                0  ...                                    0   \n",
       "3                0  ...                                    0   \n",
       "4                0  ...                                    0   \n",
       "\n",
       "   fields_of_study_Philosophy  fields_of_study_Philosophy,Computer Science  \\\n",
       "0                           0                                            0   \n",
       "1                           0                                            0   \n",
       "2                           0                                            0   \n",
       "3                           0                                            0   \n",
       "4                           0                                            0   \n",
       "\n",
       "   fields_of_study_Political Science  \\\n",
       "0                                  0   \n",
       "1                                  0   \n",
       "2                                  0   \n",
       "3                                  0   \n",
       "4                                  0   \n",
       "\n",
       "   fields_of_study_Political Science,Computer Science  \\\n",
       "0                                                  0    \n",
       "1                                                  0    \n",
       "2                                                  0    \n",
       "3                                                  0    \n",
       "4                                                  0    \n",
       "\n",
       "   fields_of_study_Psychology  fields_of_study_Psychology,Computer Science  \\\n",
       "0                           0                                            0   \n",
       "1                           0                                            0   \n",
       "2                           0                                            0   \n",
       "3                           0                                            0   \n",
       "4                           0                                            0   \n",
       "\n",
       "   fields_of_study_Psychology,Medicine  fields_of_study_Sociology  \\\n",
       "0                                    0                          0   \n",
       "1                                    0                          0   \n",
       "2                                    0                          0   \n",
       "3                                    0                          0   \n",
       "4                                    0                          0   \n",
       "\n",
       "   fields_of_study_Sociology,Computer Science  \n",
       "0                                           0  \n",
       "1                                           0  \n",
       "2                                           0  \n",
       "3                                           0  \n",
       "4                                           0  \n",
       "\n",
       "[5 rows x 368 columns]"
      ]
     },
     "execution_count": 61,
     "metadata": {},
     "output_type": "execute_result"
    }
   ],
   "source": [
    "df_combined.head()"
   ]
  },
  {
   "cell_type": "markdown",
   "metadata": {},
   "source": [
    "#### Split the data back into train and test"
   ]
  },
  {
   "cell_type": "code",
   "execution_count": 62,
   "metadata": {},
   "outputs": [],
   "source": [
    "df_train = df_combined.loc[:9380,]"
   ]
  },
  {
   "cell_type": "code",
   "execution_count": 63,
   "metadata": {},
   "outputs": [],
   "source": [
    "df_test = df_combined.loc[9381:,]"
   ]
  },
  {
   "cell_type": "code",
   "execution_count": 64,
   "metadata": {},
   "outputs": [],
   "source": [
    "X = df_train.loc[:,df_train.columns != 'citations']"
   ]
  },
  {
   "cell_type": "code",
   "execution_count": 65,
   "metadata": {},
   "outputs": [],
   "source": [
    "y = df_train[\"citations\"].astype(int)"
   ]
  },
  {
   "cell_type": "code",
   "execution_count": 66,
   "metadata": {},
   "outputs": [],
   "source": [
    "from sklearn.model_selection import train_test_split\n",
    "\n",
    "X_train, X_val, y_train, y_val = train_test_split(X, y, test_size=0.2, random_state=42)"
   ]
  },
  {
   "cell_type": "code",
   "execution_count": 67,
   "metadata": {},
   "outputs": [
    {
     "name": "stdout",
     "output_type": "stream",
     "text": [
      "(7504, 367) (1876, 367) (7504,) (1876,)\n"
     ]
    }
   ],
   "source": [
    "print(X_train.shape, X_val.shape, y_train.shape, y_val.shape)"
   ]
  },
  {
   "cell_type": "code",
   "execution_count": 68,
   "metadata": {},
   "outputs": [],
   "source": [
    "from sklearn.feature_extraction.text import TfidfVectorizer"
   ]
  },
  {
   "cell_type": "code",
   "execution_count": 77,
   "metadata": {},
   "outputs": [],
   "source": [
    "tfidf = TfidfVectorizer(max_df=0.90, min_df=2, max_features=1000)"
   ]
  },
  {
   "cell_type": "code",
   "execution_count": 92,
   "metadata": {},
   "outputs": [],
   "source": [
    "abstract_train = tfidf.fit_transform(X_train[\"abstract\"])"
   ]
  },
  {
   "cell_type": "code",
   "execution_count": 93,
   "metadata": {},
   "outputs": [],
   "source": [
    "df_abs = pd.DataFrame(abstract_train.todense(), columns=tfidf.get_feature_names())"
   ]
  },
  {
   "cell_type": "code",
   "execution_count": 95,
   "metadata": {},
   "outputs": [],
   "source": [
    "abstract_val = tfidf.transform(X_val[\"abstract\"])"
   ]
  },
  {
   "cell_type": "code",
   "execution_count": 96,
   "metadata": {},
   "outputs": [],
   "source": [
    "df_val = pd.DataFrame(abstract_val.todense(), columns=tfidf.get_feature_names())"
   ]
  },
  {
   "cell_type": "code",
   "execution_count": 98,
   "metadata": {},
   "outputs": [],
   "source": [
    "X_train.drop(['title', 'abstract', 'authors', 'topics'], axis=1, inplace=True)"
   ]
  },
  {
   "cell_type": "code",
   "execution_count": 111,
   "metadata": {},
   "outputs": [],
   "source": [
    "X_val.drop(['title', 'abstract', 'authors', 'topics'], axis=1, inplace=True)"
   ]
  },
  {
   "cell_type": "code",
   "execution_count": 110,
   "metadata": {},
   "outputs": [],
   "source": [
    "X_train_final = pd.concat([X_train.reset_index(), df_abs.reset_index()], axis=1)"
   ]
  },
  {
   "cell_type": "code",
   "execution_count": 113,
   "metadata": {},
   "outputs": [],
   "source": [
    "X_val_final = pd.concat([X_val.reset_index(), df_val.reset_index()], axis=1)"
   ]
  },
  {
   "cell_type": "code",
   "execution_count": 115,
   "metadata": {},
   "outputs": [
    {
     "data": {
      "text/plain": [
       "(7504, 1365)"
      ]
     },
     "execution_count": 115,
     "metadata": {},
     "output_type": "execute_result"
    }
   ],
   "source": [
    "X_train_final.shape"
   ]
  },
  {
   "cell_type": "code",
   "execution_count": 116,
   "metadata": {},
   "outputs": [
    {
     "data": {
      "text/plain": [
       "(1876, 1365)"
      ]
     },
     "execution_count": 116,
     "metadata": {},
     "output_type": "execute_result"
    }
   ],
   "source": [
    "X_val_final.shape"
   ]
  },
  {
   "cell_type": "code",
   "execution_count": 123,
   "metadata": {},
   "outputs": [],
   "source": [
    "from sklearn.preprocessing import StandardScaler\n",
    "\n",
    "scaler = StandardScaler()\n",
    "\n",
    "X_train_final = scaler.fit_transform(X_train_final.iloc[:, 2:])\n",
    "X_val_final = scaler.transform(X_val_final.iloc[:, 2:])"
   ]
  },
  {
   "cell_type": "code",
   "execution_count": 135,
   "metadata": {},
   "outputs": [
    {
     "data": {
      "text/plain": [
       "RandomForestRegressor(random_state=0)"
      ]
     },
     "execution_count": 135,
     "metadata": {},
     "output_type": "execute_result"
    }
   ],
   "source": [
    "from sklearn.ensemble import RandomForestRegressor\n",
    "\n",
    "regressor = RandomForestRegressor(n_estimators=100,random_state=0)\n",
    "\n",
    "regressor.fit(X_train_final, y_train)"
   ]
  },
  {
   "cell_type": "code",
   "execution_count": 136,
   "metadata": {},
   "outputs": [],
   "source": [
    "pred = regressor.predict(X_val_final)"
   ]
  },
  {
   "cell_type": "code",
   "execution_count": 137,
   "metadata": {},
   "outputs": [
    {
     "data": {
      "text/plain": [
       "-0.9904344614933578"
      ]
     },
     "execution_count": 137,
     "metadata": {},
     "output_type": "execute_result"
    }
   ],
   "source": [
    "from sklearn.metrics import r2_score\n",
    "\n",
    "r2_score(y_val,pred)"
   ]
  },
  {
   "cell_type": "code",
   "execution_count": 138,
   "metadata": {},
   "outputs": [],
   "source": [
    "def score(Y_true, Y_pred):\n",
    "    y_true = np.log1p(np.maximum(0, Y_true))\n",
    "    y_pred = np.log1p(np.maximum(0, Y_pred))\n",
    "    return 1 - np.mean((y_true-y_pred)**2) / np.mean((y_true-np.mean(y_true))**2)\n",
    "\n",
    "def evaluate(gold_path, pred_path):\n",
    "    gold = { x['doi']: x['citations'] for x in json.load(open(gold_path)) }\n",
    "    pred = { x['doi']: x['citations'] for x in json.load(open(pred_path)) }\n",
    "    y_true = np.array([ gold[key] for key in gold ])\n",
    "    y_pred = np.array([ pred[key] for key in gold ])\n",
    "    return score(y_true, y_pred)"
   ]
  },
  {
   "cell_type": "code",
   "execution_count": 139,
   "metadata": {},
   "outputs": [
    {
     "data": {
      "text/plain": [
       "-0.13340345588840674"
      ]
     },
     "execution_count": 139,
     "metadata": {},
     "output_type": "execute_result"
    }
   ],
   "source": [
    "score(y_val, pred)"
   ]
  },
  {
   "cell_type": "code",
   "execution_count": 133,
   "metadata": {},
   "outputs": [],
   "source": [
    "from sklearn.metrics import mean_squared_error"
   ]
  },
  {
   "cell_type": "code",
   "execution_count": 140,
   "metadata": {},
   "outputs": [
    {
     "data": {
      "text/plain": [
       "16279.54804152452"
      ]
     },
     "execution_count": 140,
     "metadata": {},
     "output_type": "execute_result"
    }
   ],
   "source": [
    "mean_squared_error(y_val,pred)"
   ]
  },
  {
   "cell_type": "code",
   "execution_count": 141,
   "metadata": {},
   "outputs": [],
   "source": [
    "from sklearn.linear_model import LinearRegression"
   ]
  },
  {
   "cell_type": "code",
   "execution_count": 142,
   "metadata": {},
   "outputs": [],
   "source": [
    "lr = LinearRegression()"
   ]
  },
  {
   "cell_type": "code",
   "execution_count": 143,
   "metadata": {},
   "outputs": [
    {
     "data": {
      "text/plain": [
       "LinearRegression()"
      ]
     },
     "execution_count": 143,
     "metadata": {},
     "output_type": "execute_result"
    }
   ],
   "source": [
    "lr.fit(X_train_final,y_train)"
   ]
  },
  {
   "cell_type": "code",
   "execution_count": 144,
   "metadata": {},
   "outputs": [],
   "source": [
    "y_pred = lr.predict(X_val_final)"
   ]
  },
  {
   "cell_type": "code",
   "execution_count": 146,
   "metadata": {},
   "outputs": [
    {
     "data": {
      "text/plain": [
       "-6.600904852304667e+22"
      ]
     },
     "execution_count": 146,
     "metadata": {},
     "output_type": "execute_result"
    }
   ],
   "source": [
    "r2_score(y_val,y_pred)"
   ]
  },
  {
   "cell_type": "code",
   "execution_count": 147,
   "metadata": {},
   "outputs": [
    {
     "data": {
      "text/plain": [
       "5.3988086389944545e+26"
      ]
     },
     "execution_count": 147,
     "metadata": {},
     "output_type": "execute_result"
    }
   ],
   "source": [
    "mean_squared_error(y_val,y_pred)"
   ]
  }
 ],
 "metadata": {
  "kernelspec": {
   "display_name": "Python 3",
   "language": "python",
   "name": "python3"
  },
  "language_info": {
   "codemirror_mode": {
    "name": "ipython",
    "version": 3
   },
   "file_extension": ".py",
   "mimetype": "text/x-python",
   "name": "python",
   "nbconvert_exporter": "python",
   "pygments_lexer": "ipython3",
   "version": "3.8.5"
  }
 },
 "nbformat": 4,
 "nbformat_minor": 4
}
