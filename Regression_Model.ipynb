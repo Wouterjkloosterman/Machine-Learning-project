{
 "cells": [
  {
   "cell_type": "code",
   "execution_count": 1,
   "metadata": {},
   "outputs": [],
   "source": [
    "import json\n",
    "import string\n",
    "import re\n",
    "import nltk\n",
    "import pandas as pd\n",
    "pd.options.mode.chained_assignment = None\n",
    "import numpy as np\n",
    "import matplotlib.pyplot as plt\n",
    "import seaborn as sns\n",
    "from sklearn.model_selection import train_test_split\n",
    "from sklearn.preprocessing import StandardScaler\n",
    "from sklearn.linear_model import LinearRegression\n",
    "from collections import Counter\n",
    "from sklearn.metrics import r2_score\n",
    "\n",
    "from nltk.corpus import stopwords\n",
    "\", \".join(stopwords.words('english'))\n",
    "Stopwords = set(stopwords.words('english'))"
   ]
  },
  {
   "cell_type": "code",
   "execution_count": 2,
   "metadata": {},
   "outputs": [],
   "source": [
    "train_set = open(\"C:/Users/user/Desktop/ML_Challenge/train-1.json\")\n",
    "test_set = open(\"C:/Users/user/Desktop/ML_Challenge/test.json\")\n",
    "train = json.load(train_set)\n",
    "test = json.load(test_set)"
   ]
  },
  {
   "cell_type": "code",
   "execution_count": 3,
   "metadata": {},
   "outputs": [],
   "source": [
    "df_train = pd.DataFrame(train)\n",
    "df_test = pd.DataFrame(test)"
   ]
  },
  {
   "cell_type": "code",
   "execution_count": 4,
   "metadata": {},
   "outputs": [
    {
     "name": "stdout",
     "output_type": "stream",
     "text": [
      "(9658, 11) (1000, 10)\n"
     ]
    }
   ],
   "source": [
    "print(df_train.shape, df_test.shape)"
   ]
  },
  {
   "cell_type": "markdown",
   "metadata": {},
   "source": [
    "#### Clean Test Data"
   ]
  },
  {
   "cell_type": "code",
   "execution_count": 5,
   "metadata": {},
   "outputs": [],
   "source": [
    "df_test = df_test.reindex([\"doi\", \"title\", \"abstract\", \"authors\", \"venue\", \"year\", \"references\",\n",
    "                           \"topics\", \"is_open_access\", \"fields_of_study\"], axis=1)"
   ]
  },
  {
   "cell_type": "code",
   "execution_count": 6,
   "metadata": {},
   "outputs": [
    {
     "data": {
      "text/plain": [
       "doi                 0\n",
       "title               0\n",
       "abstract           19\n",
       "authors             0\n",
       "venue               0\n",
       "year                0\n",
       "references          0\n",
       "topics              0\n",
       "is_open_access      0\n",
       "fields_of_study    13\n",
       "dtype: int64"
      ]
     },
     "execution_count": 6,
     "metadata": {},
     "output_type": "execute_result"
    }
   ],
   "source": [
    "df_test.isnull().sum()"
   ]
  },
  {
   "cell_type": "code",
   "execution_count": 7,
   "metadata": {},
   "outputs": [],
   "source": [
    "mode_fos = df_test[\"fields_of_study\"].mode().values[0]\n",
    "df_test[\"fields_of_study\"] = df_test[\"fields_of_study\"].apply(lambda d: d if isinstance(d, list) else mode_fos)\n",
    "df_test[\"fields_of_study\"] = [\",\".join(i) for i in df_test[\"fields_of_study\"]]"
   ]
  },
  {
   "cell_type": "code",
   "execution_count": 8,
   "metadata": {},
   "outputs": [],
   "source": [
    "df_test[\"authors\"] = [\",\".join(i) for i in df_test[\"authors\"]]\n",
    "df_test[\"topics\"] = [\",\".join(i) for i in df_test[\"topics\"]]"
   ]
  },
  {
   "cell_type": "code",
   "execution_count": 9,
   "metadata": {},
   "outputs": [],
   "source": [
    "df_test = df_test.replace(r'^\\s*$', np.nan, regex=True)"
   ]
  },
  {
   "cell_type": "code",
   "execution_count": 10,
   "metadata": {},
   "outputs": [
    {
     "data": {
      "text/plain": [
       "doi                  0\n",
       "title                0\n",
       "abstract            19\n",
       "authors              2\n",
       "venue               56\n",
       "year                 0\n",
       "references           0\n",
       "topics             231\n",
       "is_open_access       0\n",
       "fields_of_study      0\n",
       "dtype: int64"
      ]
     },
     "execution_count": 10,
     "metadata": {},
     "output_type": "execute_result"
    }
   ],
   "source": [
    "df_test.isnull().sum()"
   ]
  },
  {
   "cell_type": "code",
   "execution_count": 11,
   "metadata": {},
   "outputs": [],
   "source": [
    "df_test[\"abstract\"] = df_test[\"abstract\"].fillna(\"\")\n",
    "df_test[\"authors\"] = df_test[\"authors\"].fillna(\"\")"
   ]
  },
  {
   "cell_type": "code",
   "execution_count": 12,
   "metadata": {},
   "outputs": [],
   "source": [
    "mode_v = df_test[\"venue\"].mode().values[0]\n",
    "df_test[\"venue\"] = df_test[\"venue\"].fillna(mode_v)"
   ]
  },
  {
   "cell_type": "code",
   "execution_count": 13,
   "metadata": {},
   "outputs": [],
   "source": [
    "mode_top = df_test[\"topics\"].mode().values[0]\n",
    "df_test[\"topics\"] = df_test[\"topics\"].fillna(mode_top)"
   ]
  },
  {
   "cell_type": "code",
   "execution_count": 14,
   "metadata": {},
   "outputs": [
    {
     "data": {
      "text/plain": [
       "(1000, 10)"
      ]
     },
     "execution_count": 14,
     "metadata": {},
     "output_type": "execute_result"
    }
   ],
   "source": [
    "df_test.shape"
   ]
  },
  {
   "cell_type": "markdown",
   "metadata": {},
   "source": [
    "#### Clean Train Data"
   ]
  },
  {
   "cell_type": "code",
   "execution_count": 15,
   "metadata": {},
   "outputs": [
    {
     "data": {
      "text/plain": [
       "doi                  0\n",
       "title                0\n",
       "abstract           159\n",
       "authors              0\n",
       "venue                0\n",
       "year                 3\n",
       "references           0\n",
       "topics               0\n",
       "is_open_access       0\n",
       "fields_of_study    136\n",
       "citations            0\n",
       "dtype: int64"
      ]
     },
     "execution_count": 15,
     "metadata": {},
     "output_type": "execute_result"
    }
   ],
   "source": [
    "df_train.isnull().sum()"
   ]
  },
  {
   "cell_type": "code",
   "execution_count": 16,
   "metadata": {},
   "outputs": [],
   "source": [
    "mode_fos_train = df_train[\"fields_of_study\"].mode().values[0]\n",
    "df_train[\"fields_of_study\"] = df_train[\"fields_of_study\"].apply(lambda d: d if isinstance(d, list) else mode_fos_train)\n",
    "df_train[\"fields_of_study\"] = [\",\".join(i) for i in df_train[\"fields_of_study\"]]"
   ]
  },
  {
   "cell_type": "code",
   "execution_count": 17,
   "metadata": {},
   "outputs": [],
   "source": [
    "df_train[\"authors\"] = [\",\".join(i) for i in df_train[\"authors\"]]\n",
    "df_train[\"topics\"] = [\",\".join(i) for i in df_train[\"topics\"]]"
   ]
  },
  {
   "cell_type": "code",
   "execution_count": 18,
   "metadata": {},
   "outputs": [],
   "source": [
    "df_train = df_train.replace(r'^\\s*$', np.nan, regex=True)"
   ]
  },
  {
   "cell_type": "code",
   "execution_count": 19,
   "metadata": {},
   "outputs": [
    {
     "data": {
      "text/plain": [
       "doi                   0\n",
       "title                 0\n",
       "abstract            159\n",
       "authors              13\n",
       "venue               462\n",
       "year                  3\n",
       "references            0\n",
       "topics             2134\n",
       "is_open_access        0\n",
       "fields_of_study       0\n",
       "citations             0\n",
       "dtype: int64"
      ]
     },
     "execution_count": 19,
     "metadata": {},
     "output_type": "execute_result"
    }
   ],
   "source": [
    "df_train.isnull().sum()"
   ]
  },
  {
   "cell_type": "code",
   "execution_count": 20,
   "metadata": {},
   "outputs": [],
   "source": [
    "df_train[\"abstract\"] = df_train[\"abstract\"].fillna(\"\")\n",
    "df_train[\"authors\"] = df_train[\"authors\"].fillna(\"\")"
   ]
  },
  {
   "cell_type": "code",
   "execution_count": 21,
   "metadata": {},
   "outputs": [],
   "source": [
    "mode_v_train = df_train[\"venue\"].mode().values[0]\n",
    "df_train[\"venue\"] = df_train[\"venue\"].fillna(mode_v_train)"
   ]
  },
  {
   "cell_type": "code",
   "execution_count": 22,
   "metadata": {},
   "outputs": [],
   "source": [
    "mode_top_train = df_train[\"topics\"].mode().values[0]\n",
    "df_train[\"topics\"] = df_train[\"topics\"].fillna(mode_top_train)"
   ]
  },
  {
   "cell_type": "code",
   "execution_count": 23,
   "metadata": {},
   "outputs": [],
   "source": [
    "mode_year = df_train[\"year\"].mode().values[0]\n",
    "df_train[\"year\"] = df_train[\"year\"].fillna(mode_year)"
   ]
  },
  {
   "cell_type": "code",
   "execution_count": 24,
   "metadata": {},
   "outputs": [
    {
     "data": {
      "text/plain": [
       "(9658, 11)"
      ]
     },
     "execution_count": 24,
     "metadata": {},
     "output_type": "execute_result"
    }
   ],
   "source": [
    "df_train.shape"
   ]
  },
  {
   "cell_type": "code",
   "execution_count": 25,
   "metadata": {},
   "outputs": [],
   "source": [
    "df_train[\"year\"] = df_train[\"year\"].astype(int)"
   ]
  },
  {
   "cell_type": "markdown",
   "metadata": {},
   "source": [
    "#### Combine Train and Test Data"
   ]
  },
  {
   "cell_type": "code",
   "execution_count": 26,
   "metadata": {},
   "outputs": [
    {
     "data": {
      "text/plain": [
       "(10658, 11)"
      ]
     },
     "execution_count": 26,
     "metadata": {},
     "output_type": "execute_result"
    }
   ],
   "source": [
    "df_combined = df_train.append(df_test, ignore_index=True)\n",
    "df_combined.shape"
   ]
  },
  {
   "cell_type": "code",
   "execution_count": 27,
   "metadata": {},
   "outputs": [
    {
     "data": {
      "text/plain": [
       "doi                   0\n",
       "title                 0\n",
       "abstract              0\n",
       "authors               0\n",
       "venue                 0\n",
       "year                  0\n",
       "references            0\n",
       "topics                0\n",
       "is_open_access        0\n",
       "fields_of_study       0\n",
       "citations          1000\n",
       "dtype: int64"
      ]
     },
     "execution_count": 27,
     "metadata": {},
     "output_type": "execute_result"
    }
   ],
   "source": [
    "df_combined.isnull().sum()"
   ]
  },
  {
   "cell_type": "code",
   "execution_count": 28,
   "metadata": {},
   "outputs": [],
   "source": [
    "df_combined[\"citations\"] = df_combined[\"citations\"].fillna(0)"
   ]
  },
  {
   "cell_type": "code",
   "execution_count": 29,
   "metadata": {},
   "outputs": [
    {
     "data": {
      "text/plain": [
       "doi                0\n",
       "title              0\n",
       "abstract           0\n",
       "authors            0\n",
       "venue              0\n",
       "year               0\n",
       "references         0\n",
       "topics             0\n",
       "is_open_access     0\n",
       "fields_of_study    0\n",
       "citations          0\n",
       "dtype: int64"
      ]
     },
     "execution_count": 29,
     "metadata": {},
     "output_type": "execute_result"
    }
   ],
   "source": [
    "df_combined.isnull().sum()"
   ]
  },
  {
   "cell_type": "markdown",
   "metadata": {},
   "source": [
    "#### Preprocess and Extract Features for the Model"
   ]
  },
  {
   "cell_type": "code",
   "execution_count": 30,
   "metadata": {},
   "outputs": [],
   "source": [
    "#Venue\n",
    "def clean_venue(text):\n",
    "    n = re.sub(r'[0-9]', \"\", text)\n",
    "    p = re.sub(r'[^\\w\\s]', \"\", n.lower().strip())\n",
    "    return p"
   ]
  },
  {
   "cell_type": "code",
   "execution_count": 31,
   "metadata": {},
   "outputs": [],
   "source": [
    "df_combined[\"venue\"] = df_combined[\"venue\"].apply(lambda x: clean_venue(x))"
   ]
  },
  {
   "cell_type": "code",
   "execution_count": 32,
   "metadata": {},
   "outputs": [],
   "source": [
    "venue_rank = df_combined.groupby('venue')['citations'].rank(pct=True, ascending = False)"
   ]
  },
  {
   "cell_type": "code",
   "execution_count": 33,
   "metadata": {},
   "outputs": [],
   "source": [
    "df_combined.insert(loc=5, column='venue_rank', value=venue_rank)"
   ]
  },
  {
   "cell_type": "code",
   "execution_count": 34,
   "metadata": {},
   "outputs": [],
   "source": [
    "#Authors\n",
    "authors = df_combined[[\"authors\"]]\n",
    "authors['authors_k'] = authors['authors'].apply(lambda x: \" \".join(x.lower() for x in x.split()))\n",
    "authors['authors_p'] = [x.replace(\".\",\" \").split(',') for x in authors['authors_k']]\n",
    "df_combined[\"authors\"] = authors['authors_p']"
   ]
  },
  {
   "cell_type": "code",
   "execution_count": 35,
   "metadata": {},
   "outputs": [],
   "source": [
    "df_combined[\"authors\"] = [\",\".join(i) for i in df_combined[\"authors\"]]"
   ]
  },
  {
   "cell_type": "code",
   "execution_count": 36,
   "metadata": {},
   "outputs": [],
   "source": [
    "def split_and_count(column):\n",
    "    lis = []\n",
    "    for i in column:\n",
    "        for j in i.split(\",\"):\n",
    "            lis.append(j)\n",
    "            counts = Counter(lis)\n",
    "    return counts"
   ]
  },
  {
   "cell_type": "code",
   "execution_count": 37,
   "metadata": {},
   "outputs": [],
   "source": [
    "author_count = df_combined['authors'].apply(lambda x: len(x.split(',')))"
   ]
  },
  {
   "cell_type": "code",
   "execution_count": 38,
   "metadata": {},
   "outputs": [],
   "source": [
    "df_combined.insert(loc=4, column='authors_count', value=author_count)"
   ]
  },
  {
   "cell_type": "code",
   "execution_count": 39,
   "metadata": {},
   "outputs": [],
   "source": [
    "df = pd.DataFrame(list(split_and_count(df_combined[\"authors\"]).items()),columns = ['authors','counts'])"
   ]
  },
  {
   "cell_type": "code",
   "execution_count": 40,
   "metadata": {},
   "outputs": [],
   "source": [
    "def author_score(var1,var2,main_df,index): \n",
    "    k = 0\n",
    "    for i,j in zip(var1,var2):\n",
    "        if i in main_df[index]:\n",
    "            #print(i, j)\n",
    "            k += j\n",
    "    return k"
   ]
  },
  {
   "cell_type": "code",
   "execution_count": 41,
   "metadata": {},
   "outputs": [
    {
     "data": {
      "text/plain": [
       "31"
      ]
     },
     "execution_count": 41,
     "metadata": {},
     "output_type": "execute_result"
    }
   ],
   "source": [
    "author_score(df[\"authors\"], df[\"counts\"],df_combined[\"authors\"], 3)"
   ]
  },
  {
   "cell_type": "code",
   "execution_count": 42,
   "metadata": {},
   "outputs": [],
   "source": [
    "author_scores = [author_score(df[\"authors\"], df[\"counts\"],df_combined[\"authors\"], each) for each in df_combined.index]"
   ]
  },
  {
   "cell_type": "code",
   "execution_count": 43,
   "metadata": {},
   "outputs": [],
   "source": [
    "df_combined.insert(loc=5, column='authors_score', value=author_scores)"
   ]
  },
  {
   "cell_type": "code",
   "execution_count": 44,
   "metadata": {},
   "outputs": [],
   "source": [
    "df_combined[\"authors_score\"] = df_combined[\"authors_score\"] - 15"
   ]
  },
  {
   "cell_type": "code",
   "execution_count": 45,
   "metadata": {},
   "outputs": [],
   "source": [
    "authors_rank = df_combined.groupby('authors_score')['citations'].rank(pct=True, ascending = True)"
   ]
  },
  {
   "cell_type": "code",
   "execution_count": 46,
   "metadata": {},
   "outputs": [],
   "source": [
    "df_combined.insert(loc=6, column='authors_rank', value=authors_rank)"
   ]
  },
  {
   "cell_type": "code",
   "execution_count": 126,
   "metadata": {},
   "outputs": [
    {
     "data": {
      "text/html": [
       "<div>\n",
       "<style scoped>\n",
       "    .dataframe tbody tr th:only-of-type {\n",
       "        vertical-align: middle;\n",
       "    }\n",
       "\n",
       "    .dataframe tbody tr th {\n",
       "        vertical-align: top;\n",
       "    }\n",
       "\n",
       "    .dataframe thead th {\n",
       "        text-align: right;\n",
       "    }\n",
       "</style>\n",
       "<table border=\"1\" class=\"dataframe\">\n",
       "  <thead>\n",
       "    <tr style=\"text-align: right;\">\n",
       "      <th></th>\n",
       "      <th>doi</th>\n",
       "      <th>title</th>\n",
       "      <th>abstract</th>\n",
       "      <th>authors</th>\n",
       "      <th>authors_count</th>\n",
       "      <th>authors_score</th>\n",
       "      <th>authors_rank</th>\n",
       "      <th>venue</th>\n",
       "      <th>venue_rank</th>\n",
       "      <th>year</th>\n",
       "      <th>references</th>\n",
       "      <th>topics</th>\n",
       "      <th>is_open_access</th>\n",
       "      <th>fields_of_study</th>\n",
       "      <th>citations</th>\n",
       "    </tr>\n",
       "  </thead>\n",
       "  <tbody>\n",
       "    <tr>\n",
       "      <th>0</th>\n",
       "      <td>10.3115/v1/P15-1039</td>\n",
       "      <td>Generating High Quality Proposition Banks for ...</td>\n",
       "      <td>Semantic role labeling (SRL) is crucial to nat...</td>\n",
       "      <td>a  akbik,laura chiticariu,marina danilevsky,yu...</td>\n",
       "      <td>6</td>\n",
       "      <td>27</td>\n",
       "      <td>0.870861</td>\n",
       "      <td>acl</td>\n",
       "      <td>0.171881</td>\n",
       "      <td>2015</td>\n",
       "      <td>39</td>\n",
       "      <td>Semantic role labeling</td>\n",
       "      <td>True</td>\n",
       "      <td>Computer Science</td>\n",
       "      <td>60.0</td>\n",
       "    </tr>\n",
       "    <tr>\n",
       "      <th>1</th>\n",
       "      <td>10.18653/v1/2020.eval4nlp-1.12</td>\n",
       "      <td>One of these words is not like the other: a re...</td>\n",
       "      <td>Word embeddings are an active topic in the NLP...</td>\n",
       "      <td>jesper brink andersen,mikkel bak bertelsen,mik...</td>\n",
       "      <td>5</td>\n",
       "      <td>9</td>\n",
       "      <td>0.294314</td>\n",
       "      <td>evalnlp</td>\n",
       "      <td>0.722222</td>\n",
       "      <td>2020</td>\n",
       "      <td>44</td>\n",
       "      <td>Natural language processing</td>\n",
       "      <td>True</td>\n",
       "      <td>Computer Science</td>\n",
       "      <td>1.0</td>\n",
       "    </tr>\n",
       "    <tr>\n",
       "      <th>2</th>\n",
       "      <td>10.18653/v1/W17-3516</td>\n",
       "      <td>The Code2Text Challenge: Text Generation in So...</td>\n",
       "      <td>We propose a new shared task for tactical data...</td>\n",
       "      <td>kyle richardson,sina zarrieß,jonas kuhn</td>\n",
       "      <td>3</td>\n",
       "      <td>29</td>\n",
       "      <td>0.336066</td>\n",
       "      <td>inlg</td>\n",
       "      <td>0.507874</td>\n",
       "      <td>2017</td>\n",
       "      <td>30</td>\n",
       "      <td>Natural language generation,Library (computing...</td>\n",
       "      <td>True</td>\n",
       "      <td>Computer Science</td>\n",
       "      <td>5.0</td>\n",
       "    </tr>\n",
       "    <tr>\n",
       "      <th>3</th>\n",
       "      <td>10.18653/v1/S17-2160</td>\n",
       "      <td>The Meaning Factory at SemEval-2017 Task 9: Pr...</td>\n",
       "      <td>We evaluate a semantic parser based on a chara...</td>\n",
       "      <td>rik van noord,johan bos</td>\n",
       "      <td>2</td>\n",
       "      <td>16</td>\n",
       "      <td>0.472637</td>\n",
       "      <td>semevalacl</td>\n",
       "      <td>0.500000</td>\n",
       "      <td>2017</td>\n",
       "      <td>11</td>\n",
       "      <td>Parsing,Convolutional neural network,Text-base...</td>\n",
       "      <td>True</td>\n",
       "      <td>Computer Science</td>\n",
       "      <td>5.0</td>\n",
       "    </tr>\n",
       "    <tr>\n",
       "      <th>4</th>\n",
       "      <td>10.18653/v1/W15-2205</td>\n",
       "      <td>Semantic Parsing for Textual Entailment</td>\n",
       "      <td>In this paper we gauge the utility of general-...</td>\n",
       "      <td>elisabeth lien,milen kouylekov</td>\n",
       "      <td>2</td>\n",
       "      <td>5</td>\n",
       "      <td>0.720149</td>\n",
       "      <td>iwpt</td>\n",
       "      <td>0.096774</td>\n",
       "      <td>2015</td>\n",
       "      <td>26</td>\n",
       "      <td>Textual entailment,Parsing,SemEval,Semantic We...</td>\n",
       "      <td>True</td>\n",
       "      <td>Computer Science</td>\n",
       "      <td>10.0</td>\n",
       "    </tr>\n",
       "    <tr>\n",
       "      <th>...</th>\n",
       "      <td>...</td>\n",
       "      <td>...</td>\n",
       "      <td>...</td>\n",
       "      <td>...</td>\n",
       "      <td>...</td>\n",
       "      <td>...</td>\n",
       "      <td>...</td>\n",
       "      <td>...</td>\n",
       "      <td>...</td>\n",
       "      <td>...</td>\n",
       "      <td>...</td>\n",
       "      <td>...</td>\n",
       "      <td>...</td>\n",
       "      <td>...</td>\n",
       "      <td>...</td>\n",
       "    </tr>\n",
       "    <tr>\n",
       "      <th>10653</th>\n",
       "      <td>10.18653/v1/P16-1217</td>\n",
       "      <td>Automatic Labeling of Topic Models Using Text ...</td>\n",
       "      <td>Labeling topics learned by topic models is a c...</td>\n",
       "      <td>xiaojun wan,tianming wang</td>\n",
       "      <td>2</td>\n",
       "      <td>33</td>\n",
       "      <td>0.109524</td>\n",
       "      <td>acl</td>\n",
       "      <td>0.926205</td>\n",
       "      <td>2016</td>\n",
       "      <td>25</td>\n",
       "      <td>Automatic summarization,Algorithm,Submodular s...</td>\n",
       "      <td>True</td>\n",
       "      <td>Computer Science</td>\n",
       "      <td>0.0</td>\n",
       "    </tr>\n",
       "    <tr>\n",
       "      <th>10654</th>\n",
       "      <td>10.18653/v1/D15-1192</td>\n",
       "      <td>Learning to Identify the Best Contexts for Kno...</td>\n",
       "      <td>We outline a learning framework that aims at i...</td>\n",
       "      <td>evgenia wasserman pritsker,william w  cohen,ei...</td>\n",
       "      <td>3</td>\n",
       "      <td>13</td>\n",
       "      <td>0.115108</td>\n",
       "      <td>emnlp</td>\n",
       "      <td>0.937788</td>\n",
       "      <td>2015</td>\n",
       "      <td>35</td>\n",
       "      <td>Word-sense disambiguation,Lexical substitution...</td>\n",
       "      <td>True</td>\n",
       "      <td>Computer Science</td>\n",
       "      <td>0.0</td>\n",
       "    </tr>\n",
       "    <tr>\n",
       "      <th>10655</th>\n",
       "      <td>10.18653/v1/2020.iwpt-1.8</td>\n",
       "      <td>Tensors over Semirings for Latent-Variable Wei...</td>\n",
       "      <td>Semiring parsing is an elegant framework for d...</td>\n",
       "      <td>esma balkir,d  gildea,shay b  cohen</td>\n",
       "      <td>3</td>\n",
       "      <td>50</td>\n",
       "      <td>0.067164</td>\n",
       "      <td>iwpt</td>\n",
       "      <td>0.870968</td>\n",
       "      <td>2020</td>\n",
       "      <td>23</td>\n",
       "      <td>Parsing,Logic programming,Latent variable</td>\n",
       "      <td>True</td>\n",
       "      <td>Computer Science</td>\n",
       "      <td>0.0</td>\n",
       "    </tr>\n",
       "    <tr>\n",
       "      <th>10656</th>\n",
       "      <td>10.1162/tacl_a_00302</td>\n",
       "      <td>A Knowledge-Enhanced Pretraining Model for Com...</td>\n",
       "      <td>Story generation, namely, generating a reasona...</td>\n",
       "      <td>jian guan,fei huang,zhihao zhao,xiaoyan zhu,mi...</td>\n",
       "      <td>5</td>\n",
       "      <td>40</td>\n",
       "      <td>0.104651</td>\n",
       "      <td>tacl</td>\n",
       "      <td>0.968750</td>\n",
       "      <td>2020</td>\n",
       "      <td>100</td>\n",
       "      <td>Commonsense knowledge (artificial intelligence...</td>\n",
       "      <td>True</td>\n",
       "      <td>Computer Science</td>\n",
       "      <td>0.0</td>\n",
       "    </tr>\n",
       "    <tr>\n",
       "      <th>10657</th>\n",
       "      <td>10.18653/v1/W19-8620</td>\n",
       "      <td>On Leveraging the Visual Modality for Neural M...</td>\n",
       "      <td>Leveraging the visual modality effectively for...</td>\n",
       "      <td>vikas raunak,s  k  choe,quanyang lu,yi xu,flor...</td>\n",
       "      <td>5</td>\n",
       "      <td>11</td>\n",
       "      <td>0.124521</td>\n",
       "      <td>inlg</td>\n",
       "      <td>0.917323</td>\n",
       "      <td>2019</td>\n",
       "      <td>23</td>\n",
       "      <td>Neural machine translation,Principal component...</td>\n",
       "      <td>True</td>\n",
       "      <td>Computer Science</td>\n",
       "      <td>0.0</td>\n",
       "    </tr>\n",
       "  </tbody>\n",
       "</table>\n",
       "<p>10658 rows × 15 columns</p>\n",
       "</div>"
      ],
      "text/plain": [
       "                                  doi  \\\n",
       "0                 10.3115/v1/P15-1039   \n",
       "1      10.18653/v1/2020.eval4nlp-1.12   \n",
       "2                10.18653/v1/W17-3516   \n",
       "3                10.18653/v1/S17-2160   \n",
       "4                10.18653/v1/W15-2205   \n",
       "...                               ...   \n",
       "10653            10.18653/v1/P16-1217   \n",
       "10654            10.18653/v1/D15-1192   \n",
       "10655       10.18653/v1/2020.iwpt-1.8   \n",
       "10656            10.1162/tacl_a_00302   \n",
       "10657            10.18653/v1/W19-8620   \n",
       "\n",
       "                                                   title  \\\n",
       "0      Generating High Quality Proposition Banks for ...   \n",
       "1      One of these words is not like the other: a re...   \n",
       "2      The Code2Text Challenge: Text Generation in So...   \n",
       "3      The Meaning Factory at SemEval-2017 Task 9: Pr...   \n",
       "4                Semantic Parsing for Textual Entailment   \n",
       "...                                                  ...   \n",
       "10653  Automatic Labeling of Topic Models Using Text ...   \n",
       "10654  Learning to Identify the Best Contexts for Kno...   \n",
       "10655  Tensors over Semirings for Latent-Variable Wei...   \n",
       "10656  A Knowledge-Enhanced Pretraining Model for Com...   \n",
       "10657  On Leveraging the Visual Modality for Neural M...   \n",
       "\n",
       "                                                abstract  \\\n",
       "0      Semantic role labeling (SRL) is crucial to nat...   \n",
       "1      Word embeddings are an active topic in the NLP...   \n",
       "2      We propose a new shared task for tactical data...   \n",
       "3      We evaluate a semantic parser based on a chara...   \n",
       "4      In this paper we gauge the utility of general-...   \n",
       "...                                                  ...   \n",
       "10653  Labeling topics learned by topic models is a c...   \n",
       "10654  We outline a learning framework that aims at i...   \n",
       "10655  Semiring parsing is an elegant framework for d...   \n",
       "10656  Story generation, namely, generating a reasona...   \n",
       "10657  Leveraging the visual modality effectively for...   \n",
       "\n",
       "                                                 authors  authors_count  \\\n",
       "0      a  akbik,laura chiticariu,marina danilevsky,yu...              6   \n",
       "1      jesper brink andersen,mikkel bak bertelsen,mik...              5   \n",
       "2                kyle richardson,sina zarrieß,jonas kuhn              3   \n",
       "3                                rik van noord,johan bos              2   \n",
       "4                         elisabeth lien,milen kouylekov              2   \n",
       "...                                                  ...            ...   \n",
       "10653                          xiaojun wan,tianming wang              2   \n",
       "10654  evgenia wasserman pritsker,william w  cohen,ei...              3   \n",
       "10655                esma balkir,d  gildea,shay b  cohen              3   \n",
       "10656  jian guan,fei huang,zhihao zhao,xiaoyan zhu,mi...              5   \n",
       "10657  vikas raunak,s  k  choe,quanyang lu,yi xu,flor...              5   \n",
       "\n",
       "       authors_score  authors_rank       venue  venue_rank  year  references  \\\n",
       "0                 27      0.870861         acl    0.171881  2015          39   \n",
       "1                  9      0.294314     evalnlp    0.722222  2020          44   \n",
       "2                 29      0.336066        inlg    0.507874  2017          30   \n",
       "3                 16      0.472637  semevalacl    0.500000  2017          11   \n",
       "4                  5      0.720149        iwpt    0.096774  2015          26   \n",
       "...              ...           ...         ...         ...   ...         ...   \n",
       "10653             33      0.109524         acl    0.926205  2016          25   \n",
       "10654             13      0.115108       emnlp    0.937788  2015          35   \n",
       "10655             50      0.067164        iwpt    0.870968  2020          23   \n",
       "10656             40      0.104651        tacl    0.968750  2020         100   \n",
       "10657             11      0.124521        inlg    0.917323  2019          23   \n",
       "\n",
       "                                                  topics  is_open_access  \\\n",
       "0                                 Semantic role labeling            True   \n",
       "1                            Natural language processing            True   \n",
       "2      Natural language generation,Library (computing...            True   \n",
       "3      Parsing,Convolutional neural network,Text-base...            True   \n",
       "4      Textual entailment,Parsing,SemEval,Semantic We...            True   \n",
       "...                                                  ...             ...   \n",
       "10653  Automatic summarization,Algorithm,Submodular s...            True   \n",
       "10654  Word-sense disambiguation,Lexical substitution...            True   \n",
       "10655          Parsing,Logic programming,Latent variable            True   \n",
       "10656  Commonsense knowledge (artificial intelligence...            True   \n",
       "10657  Neural machine translation,Principal component...            True   \n",
       "\n",
       "        fields_of_study  citations  \n",
       "0      Computer Science       60.0  \n",
       "1      Computer Science        1.0  \n",
       "2      Computer Science        5.0  \n",
       "3      Computer Science        5.0  \n",
       "4      Computer Science       10.0  \n",
       "...                 ...        ...  \n",
       "10653  Computer Science        0.0  \n",
       "10654  Computer Science        0.0  \n",
       "10655  Computer Science        0.0  \n",
       "10656  Computer Science        0.0  \n",
       "10657  Computer Science        0.0  \n",
       "\n",
       "[10658 rows x 15 columns]"
      ]
     },
     "execution_count": 126,
     "metadata": {},
     "output_type": "execute_result"
    }
   ],
   "source": [
    "df_combined"
   ]
  },
  {
   "cell_type": "code",
   "execution_count": 61,
   "metadata": {},
   "outputs": [],
   "source": [
    "#split the training and test\n",
    "training = df_combined.iloc[: 9658]\n",
    "testing = df_combined.iloc[9658 : ]"
   ]
  },
  {
   "cell_type": "code",
   "execution_count": 62,
   "metadata": {},
   "outputs": [],
   "source": [
    "X = training[[\"authors_rank\", \"venue_rank\"]]\n",
    "y = training[[\"citations\"]]"
   ]
  },
  {
   "cell_type": "code",
   "execution_count": 63,
   "metadata": {},
   "outputs": [],
   "source": [
    "X_train, X_val, y_train, y_val = train_test_split(X, y, test_size=0.2, random_state=42)"
   ]
  },
  {
   "cell_type": "code",
   "execution_count": 65,
   "metadata": {},
   "outputs": [
    {
     "name": "stdout",
     "output_type": "stream",
     "text": [
      "(7726, 2) (1932, 2)\n"
     ]
    }
   ],
   "source": [
    "print(X_train.shape, X_val.shape)"
   ]
  },
  {
   "cell_type": "code",
   "execution_count": 66,
   "metadata": {},
   "outputs": [],
   "source": [
    "scaler = StandardScaler()\n",
    "\n",
    "X_train = scaler.fit_transform(X_train)\n",
    "X_val = scaler.transform(X_val)"
   ]
  },
  {
   "cell_type": "code",
   "execution_count": 68,
   "metadata": {},
   "outputs": [],
   "source": [
    "linreg = LinearRegression()\n",
    "\n",
    "linreg.fit(X_train,y_train)\n",
    "\n",
    "y_pred = linreg.predict(X_val)"
   ]
  },
  {
   "cell_type": "code",
   "execution_count": 69,
   "metadata": {},
   "outputs": [
    {
     "data": {
      "text/plain": [
       "0.06276283958468953"
      ]
     },
     "execution_count": 69,
     "metadata": {},
     "output_type": "execute_result"
    }
   ],
   "source": [
    "r2_score(y_val, y_pred)"
   ]
  },
  {
   "cell_type": "code",
   "execution_count": 70,
   "metadata": {},
   "outputs": [],
   "source": [
    "def score(Y_true, Y_pred):\n",
    "    y_true = np.log1p(np.maximum(0, Y_true))\n",
    "    y_pred = np.log1p(np.maximum(0, Y_pred))\n",
    "    return 1 - np.mean((y_true-y_pred)**2) / np.mean((y_true-np.mean(y_true))**2)\n",
    "\n",
    "def evaluate(gold_path, pred_path):\n",
    "    gold = { x['doi']: x['citations'] for x in json.load(open(gold_path)) }\n",
    "    pred = { x['doi']: x['citations'] for x in json.load(open(pred_path)) }\n",
    "    y_true = np.array([ gold[key] for key in gold ])\n",
    "    y_pred = np.array([ pred[key] for key in gold ])\n",
    "    return score(y_true, y_pred)"
   ]
  },
  {
   "cell_type": "code",
   "execution_count": 71,
   "metadata": {},
   "outputs": [
    {
     "data": {
      "text/plain": [
       "citations    0.428503\n",
       "dtype: float64"
      ]
     },
     "execution_count": 71,
     "metadata": {},
     "output_type": "execute_result"
    }
   ],
   "source": [
    "score(y_val, y_pred)"
   ]
  },
  {
   "cell_type": "code",
   "execution_count": 125,
   "metadata": {},
   "outputs": [
    {
     "data": {
      "text/plain": [
       "array([[18.61034504],\n",
       "       [52.31418034],\n",
       "       [-5.36573606],\n",
       "       ...,\n",
       "       [10.47657228],\n",
       "       [22.77578636],\n",
       "       [63.30071967]])"
      ]
     },
     "execution_count": 125,
     "metadata": {},
     "output_type": "execute_result"
    }
   ],
   "source": [
    "y_pred"
   ]
  },
  {
   "cell_type": "code",
   "execution_count": 73,
   "metadata": {},
   "outputs": [],
   "source": [
    "#Testing on new data\n",
    "testing.drop(\"citations\", axis=1, inplace=True)"
   ]
  },
  {
   "cell_type": "code",
   "execution_count": 110,
   "metadata": {},
   "outputs": [],
   "source": [
    "doi = pd.DataFrame(testing.iloc[: , 0])"
   ]
  },
  {
   "cell_type": "code",
   "execution_count": 111,
   "metadata": {},
   "outputs": [],
   "source": [
    "testing_X = testing[[\"authors_rank\", \"venue_rank\"]]"
   ]
  },
  {
   "cell_type": "code",
   "execution_count": 77,
   "metadata": {},
   "outputs": [],
   "source": [
    "testing_X = scaler.transform(testing_X)"
   ]
  },
  {
   "cell_type": "code",
   "execution_count": 86,
   "metadata": {},
   "outputs": [],
   "source": [
    "test_pred = linreg.predict(testing_X)"
   ]
  },
  {
   "cell_type": "code",
   "execution_count": 95,
   "metadata": {},
   "outputs": [],
   "source": [
    "colname = [\"citations\"]"
   ]
  },
  {
   "cell_type": "code",
   "execution_count": 96,
   "metadata": {},
   "outputs": [],
   "source": [
    "to_df = pd.DataFrame(data=test_pred, columns = colname)"
   ]
  },
  {
   "cell_type": "code",
   "execution_count": 115,
   "metadata": {},
   "outputs": [],
   "source": [
    "predictions = pd.concat([doi.reset_index(drop=False),testing_X.reset_index(drop=False), to_df.reset_index(drop=False)], axis=1)"
   ]
  },
  {
   "cell_type": "code",
   "execution_count": 120,
   "metadata": {},
   "outputs": [],
   "source": [
    "predictions.drop(\"index\", axis=1, inplace=True)"
   ]
  },
  {
   "cell_type": "code",
   "execution_count": 121,
   "metadata": {},
   "outputs": [
    {
     "data": {
      "text/html": [
       "<div>\n",
       "<style scoped>\n",
       "    .dataframe tbody tr th:only-of-type {\n",
       "        vertical-align: middle;\n",
       "    }\n",
       "\n",
       "    .dataframe tbody tr th {\n",
       "        vertical-align: top;\n",
       "    }\n",
       "\n",
       "    .dataframe thead th {\n",
       "        text-align: right;\n",
       "    }\n",
       "</style>\n",
       "<table border=\"1\" class=\"dataframe\">\n",
       "  <thead>\n",
       "    <tr style=\"text-align: right;\">\n",
       "      <th></th>\n",
       "      <th>doi</th>\n",
       "      <th>authors_rank</th>\n",
       "      <th>venue_rank</th>\n",
       "      <th>citations</th>\n",
       "    </tr>\n",
       "  </thead>\n",
       "  <tbody>\n",
       "    <tr>\n",
       "      <th>0</th>\n",
       "      <td>10.18653/v1/2021.findings-acl.255</td>\n",
       "      <td>0.102273</td>\n",
       "      <td>0.781491</td>\n",
       "      <td>-36.193852</td>\n",
       "    </tr>\n",
       "    <tr>\n",
       "      <th>1</th>\n",
       "      <td>10.18653/v1/2020.acl-main.200</td>\n",
       "      <td>0.132678</td>\n",
       "      <td>0.926205</td>\n",
       "      <td>-45.816634</td>\n",
       "    </tr>\n",
       "    <tr>\n",
       "      <th>2</th>\n",
       "      <td>10.18653/v1/W18-0211</td>\n",
       "      <td>0.160000</td>\n",
       "      <td>0.926205</td>\n",
       "      <td>-43.080026</td>\n",
       "    </tr>\n",
       "    <tr>\n",
       "      <th>3</th>\n",
       "      <td>10.18653/v1/N19-1413</td>\n",
       "      <td>0.120968</td>\n",
       "      <td>0.907300</td>\n",
       "      <td>-45.334609</td>\n",
       "    </tr>\n",
       "    <tr>\n",
       "      <th>4</th>\n",
       "      <td>10.18653/v1/2021.semeval-1.168</td>\n",
       "      <td>0.132678</td>\n",
       "      <td>0.906475</td>\n",
       "      <td>-44.089429</td>\n",
       "    </tr>\n",
       "    <tr>\n",
       "      <th>...</th>\n",
       "      <td>...</td>\n",
       "      <td>...</td>\n",
       "      <td>...</td>\n",
       "      <td>...</td>\n",
       "    </tr>\n",
       "    <tr>\n",
       "      <th>995</th>\n",
       "      <td>10.18653/v1/P16-1217</td>\n",
       "      <td>0.109524</td>\n",
       "      <td>0.926205</td>\n",
       "      <td>-48.135814</td>\n",
       "    </tr>\n",
       "    <tr>\n",
       "      <th>996</th>\n",
       "      <td>10.18653/v1/D15-1192</td>\n",
       "      <td>0.115108</td>\n",
       "      <td>0.937788</td>\n",
       "      <td>-48.590440</td>\n",
       "    </tr>\n",
       "    <tr>\n",
       "      <th>997</th>\n",
       "      <td>10.18653/v1/2020.iwpt-1.8</td>\n",
       "      <td>0.067164</td>\n",
       "      <td>0.870968</td>\n",
       "      <td>-47.543150</td>\n",
       "    </tr>\n",
       "    <tr>\n",
       "      <th>998</th>\n",
       "      <td>10.1162/tacl_a_00302</td>\n",
       "      <td>0.104651</td>\n",
       "      <td>0.968750</td>\n",
       "      <td>-52.348208</td>\n",
       "    </tr>\n",
       "    <tr>\n",
       "      <th>999</th>\n",
       "      <td>10.18653/v1/W19-8620</td>\n",
       "      <td>0.124521</td>\n",
       "      <td>0.917323</td>\n",
       "      <td>-45.856086</td>\n",
       "    </tr>\n",
       "  </tbody>\n",
       "</table>\n",
       "<p>1000 rows × 4 columns</p>\n",
       "</div>"
      ],
      "text/plain": [
       "                                   doi  authors_rank  venue_rank  citations\n",
       "0    10.18653/v1/2021.findings-acl.255      0.102273    0.781491 -36.193852\n",
       "1        10.18653/v1/2020.acl-main.200      0.132678    0.926205 -45.816634\n",
       "2                 10.18653/v1/W18-0211      0.160000    0.926205 -43.080026\n",
       "3                 10.18653/v1/N19-1413      0.120968    0.907300 -45.334609\n",
       "4       10.18653/v1/2021.semeval-1.168      0.132678    0.906475 -44.089429\n",
       "..                                 ...           ...         ...        ...\n",
       "995               10.18653/v1/P16-1217      0.109524    0.926205 -48.135814\n",
       "996               10.18653/v1/D15-1192      0.115108    0.937788 -48.590440\n",
       "997          10.18653/v1/2020.iwpt-1.8      0.067164    0.870968 -47.543150\n",
       "998               10.1162/tacl_a_00302      0.104651    0.968750 -52.348208\n",
       "999               10.18653/v1/W19-8620      0.124521    0.917323 -45.856086\n",
       "\n",
       "[1000 rows x 4 columns]"
      ]
     },
     "execution_count": 121,
     "metadata": {},
     "output_type": "execute_result"
    }
   ],
   "source": [
    "predictions"
   ]
  },
  {
   "cell_type": "code",
   "execution_count": 123,
   "metadata": {},
   "outputs": [],
   "source": [
    "predicted = predictions.to_dict(\"records\")"
   ]
  },
  {
   "cell_type": "code",
   "execution_count": 124,
   "metadata": {},
   "outputs": [],
   "source": [
    "a_file = open(\"predicted.json\", \"w\")\n",
    "a_file = json.dump(predicted, a_file)"
   ]
  },
  {
   "cell_type": "code",
   "execution_count": null,
   "metadata": {},
   "outputs": [],
   "source": []
  }
 ],
 "metadata": {
  "kernelspec": {
   "display_name": "Python 3",
   "language": "python",
   "name": "python3"
  },
  "language_info": {
   "codemirror_mode": {
    "name": "ipython",
    "version": 3
   },
   "file_extension": ".py",
   "mimetype": "text/x-python",
   "name": "python",
   "nbconvert_exporter": "python",
   "pygments_lexer": "ipython3",
   "version": "3.8.5"
  }
 },
 "nbformat": 4,
 "nbformat_minor": 4
}
